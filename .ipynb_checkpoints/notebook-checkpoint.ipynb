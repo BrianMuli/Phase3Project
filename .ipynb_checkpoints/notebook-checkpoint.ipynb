{
 "cells": [
  {
   "cell_type": "markdown",
   "id": "6af9d25e",
   "metadata": {},
   "source": [
    "## FINAL PROJECT SUBMISSION\n",
    "\n",
    "* Student name: BRIAN WAMBUA MULI\n",
    "* Students pace: Full time\n",
    "* Scheduled project review date/time: 24/05/2023\n",
    "* Instructor name: Lucille Kaleha, Simon Karu, Nikita Njoroge\n"
   ]
  },
  {
   "attachments": {
    "download.png": {
     "image/png": "[encoded data removed]"
    }
   },
   "cell_type": "markdown",
   "id": "7c62380f",
   "metadata": {},
   "source": [
    "![download.png](attachment:download.png)"
   ]
  },
  {
   "cell_type": "markdown",
   "id": "e15fc04f",
   "metadata": {},
   "source": [
    "# BUSINESS UNDERSTANDING\n",
    "\n",
    "### INTRODUCTION\n",
    "The telecommunications industry is highly competitive, and retaining customers is crucial for the success and profitability of telecom companies. Customer churn, or the loss of customers, can have a significant impact on the company's revenue and market share. Understanding the factors that contribute to customer churn and predicting which customers are likely to churn can help the telecom business proactively take actions to retain customers and minimize revenue loss.\n",
    "### Business Problem\n",
    "The business problem is to reduce customer churn and retain valuable customers for SyriaTel. By addressing the following questions, the telecom business can develop effective strategies to mitigate churn:\n",
    "\n",
    "1.What are the key factors or patterns that contribute to customer churn in SyriaTel?\n",
    "Can we predict, with reasonable accuracy, which customers are likely to churn in the near future?\n",
    "\n",
    "\n",
    "2.How can SyriaTel proactively identify and target customers who are at high risk of churning?\n",
    "\n",
    "\n",
    "3.What actions or incentives can be offered to customers at risk of churn to increase their loyalty and retention?\n",
    "\n",
    "\n",
    "4.How can SyriaTel allocate resources effectively to customer retention initiatives and minimize the financial impact of churn?\n",
    "\n",
    "### PROBLEM STATEMENT\n",
    "The problem at hand is to develop a predictive model that can accurately identify customers who are likely to churn from SyriaTel, a telecommunications company. By analyzing historical customer data and identifying patterns or indicators of churn, the goal is to build a classification model that can predict whether a customer is likely to stop doing business with SyriaTel in the near future.\n"
   ]
  },
  {
   "cell_type": "markdown",
   "id": "7e65f1d0",
   "metadata": {},
   "source": [
    "# DATA UNDERSTANDING\n",
    "In this project we are going to be using SyriaTel Customer Churn Dataset to try and answer our questions"
   ]
  },
  {
   "cell_type": "code",
   "execution_count": 5,
   "id": "7248f781",
   "metadata": {},
   "outputs": [],
   "source": [
    "#Importing the necessary libraries\n",
    "import pandas as pd\n",
    "import matplotlib.pyplot as plt\n",
    "import numpy as np \n",
    "import seaborn as sns\n",
    "import warnings\n",
    "warnings.filterwarnings('ignore')\n",
    "import scipy.stats as stats"
   ]
  },
  {
   "cell_type": "code",
   "execution_count": 6,
   "id": "88aef9ca",
   "metadata": {},
   "outputs": [],
   "source": [
    "#First we import our dataset \n",
    "df=pd.read_csv('churn.csv')"
   ]
  },
  {
   "cell_type": "code",
   "execution_count": 7,
   "id": "767ecefe",
   "metadata": {},
   "outputs": [
    {
     "data": {
      "text/html": [
       "<div>\n",
       "<style scoped>\n",
       "    .dataframe tbody tr th:only-of-type {\n",
       "        vertical-align: middle;\n",
       "    }\n",
       "\n",
       "    .dataframe tbody tr th {\n",
       "        vertical-align: top;\n",
       "    }\n",
       "\n",
       "    .dataframe thead th {\n",
       "        text-align: right;\n",
       "    }\n",
       "</style>\n",
       "<table border=\"1\" class=\"dataframe\">\n",
       "  <thead>\n",
       "    <tr style=\"text-align: right;\">\n",
       "      <th></th>\n",
       "      <th>state</th>\n",
       "      <th>account length</th>\n",
       "      <th>area code</th>\n",
       "      <th>phone number</th>\n",
       "      <th>international plan</th>\n",
       "      <th>voice mail plan</th>\n",
       "      <th>number vmail messages</th>\n",
       "      <th>total day minutes</th>\n",
       "      <th>total day calls</th>\n",
       "      <th>total day charge</th>\n",
       "      <th>...</th>\n",
       "      <th>total eve calls</th>\n",
       "      <th>total eve charge</th>\n",
       "      <th>total night minutes</th>\n",
       "      <th>total night calls</th>\n",
       "      <th>total night charge</th>\n",
       "      <th>total intl minutes</th>\n",
       "      <th>total intl calls</th>\n",
       "      <th>total intl charge</th>\n",
       "      <th>customer service calls</th>\n",
       "      <th>churn</th>\n",
       "    </tr>\n",
       "  </thead>\n",
       "  <tbody>\n",
       "    <tr>\n",
       "      <th>0</th>\n",
       "      <td>KS</td>\n",
       "      <td>128</td>\n",
       "      <td>415</td>\n",
       "      <td>382-4657</td>\n",
       "      <td>no</td>\n",
       "      <td>yes</td>\n",
       "      <td>25</td>\n",
       "      <td>265.1</td>\n",
       "      <td>110</td>\n",
       "      <td>45.07</td>\n",
       "      <td>...</td>\n",
       "      <td>99</td>\n",
       "      <td>16.78</td>\n",
       "      <td>244.7</td>\n",
       "      <td>91</td>\n",
       "      <td>11.01</td>\n",
       "      <td>10.0</td>\n",
       "      <td>3</td>\n",
       "      <td>2.70</td>\n",
       "      <td>1</td>\n",
       "      <td>False</td>\n",
       "    </tr>\n",
       "    <tr>\n",
       "      <th>1</th>\n",
       "      <td>OH</td>\n",
       "      <td>107</td>\n",
       "      <td>415</td>\n",
       "      <td>371-7191</td>\n",
       "      <td>no</td>\n",
       "      <td>yes</td>\n",
       "      <td>26</td>\n",
       "      <td>161.6</td>\n",
       "      <td>123</td>\n",
       "      <td>27.47</td>\n",
       "      <td>...</td>\n",
       "      <td>103</td>\n",
       "      <td>16.62</td>\n",
       "      <td>254.4</td>\n",
       "      <td>103</td>\n",
       "      <td>11.45</td>\n",
       "      <td>13.7</td>\n",
       "      <td>3</td>\n",
       "      <td>3.70</td>\n",
       "      <td>1</td>\n",
       "      <td>False</td>\n",
       "    </tr>\n",
       "    <tr>\n",
       "      <th>2</th>\n",
       "      <td>NJ</td>\n",
       "      <td>137</td>\n",
       "      <td>415</td>\n",
       "      <td>358-1921</td>\n",
       "      <td>no</td>\n",
       "      <td>no</td>\n",
       "      <td>0</td>\n",
       "      <td>243.4</td>\n",
       "      <td>114</td>\n",
       "      <td>41.38</td>\n",
       "      <td>...</td>\n",
       "      <td>110</td>\n",
       "      <td>10.30</td>\n",
       "      <td>162.6</td>\n",
       "      <td>104</td>\n",
       "      <td>7.32</td>\n",
       "      <td>12.2</td>\n",
       "      <td>5</td>\n",
       "      <td>3.29</td>\n",
       "      <td>0</td>\n",
       "      <td>False</td>\n",
       "    </tr>\n",
       "    <tr>\n",
       "      <th>3</th>\n",
       "      <td>OH</td>\n",
       "      <td>84</td>\n",
       "      <td>408</td>\n",
       "      <td>375-9999</td>\n",
       "      <td>yes</td>\n",
       "      <td>no</td>\n",
       "      <td>0</td>\n",
       "      <td>299.4</td>\n",
       "      <td>71</td>\n",
       "      <td>50.90</td>\n",
       "      <td>...</td>\n",
       "      <td>88</td>\n",
       "      <td>5.26</td>\n",
       "      <td>196.9</td>\n",
       "      <td>89</td>\n",
       "      <td>8.86</td>\n",
       "      <td>6.6</td>\n",
       "      <td>7</td>\n",
       "      <td>1.78</td>\n",
       "      <td>2</td>\n",
       "      <td>False</td>\n",
       "    </tr>\n",
       "    <tr>\n",
       "      <th>4</th>\n",
       "      <td>OK</td>\n",
       "      <td>75</td>\n",
       "      <td>415</td>\n",
       "      <td>330-6626</td>\n",
       "      <td>yes</td>\n",
       "      <td>no</td>\n",
       "      <td>0</td>\n",
       "      <td>166.7</td>\n",
       "      <td>113</td>\n",
       "      <td>28.34</td>\n",
       "      <td>...</td>\n",
       "      <td>122</td>\n",
       "      <td>12.61</td>\n",
       "      <td>186.9</td>\n",
       "      <td>121</td>\n",
       "      <td>8.41</td>\n",
       "      <td>10.1</td>\n",
       "      <td>3</td>\n",
       "      <td>2.73</td>\n",
       "      <td>3</td>\n",
       "      <td>False</td>\n",
       "    </tr>\n",
       "  </tbody>\n",
       "</table>\n",
       "<p>5 rows × 21 columns</p>\n",
       "</div>"
      ],
      "text/plain": [
       "  state  account length  area code phone number international plan  \\\n",
       "0    KS             128        415     382-4657                 no   \n",
       "1    OH             107        415     371-7191                 no   \n",
       "2    NJ             137        415     358-1921                 no   \n",
       "3    OH              84        408     375-9999                yes   \n",
       "4    OK              75        415     330-6626                yes   \n",
       "\n",
       "  voice mail plan  number vmail messages  total day minutes  total day calls  \\\n",
       "0             yes                     25              265.1              110   \n",
       "1             yes                     26              161.6              123   \n",
       "2              no                      0              243.4              114   \n",
       "3              no                      0              299.4               71   \n",
       "4              no                      0              166.7              113   \n",
       "\n",
       "   total day charge  ...  total eve calls  total eve charge  \\\n",
       "0             45.07  ...               99             16.78   \n",
       "1             27.47  ...              103             16.62   \n",
       "2             41.38  ...              110             10.30   \n",
       "3             50.90  ...               88              5.26   \n",
       "4             28.34  ...              122             12.61   \n",
       "\n",
       "   total night minutes  total night calls  total night charge  \\\n",
       "0                244.7                 91               11.01   \n",
       "1                254.4                103               11.45   \n",
       "2                162.6                104                7.32   \n",
       "3                196.9                 89                8.86   \n",
       "4                186.9                121                8.41   \n",
       "\n",
       "   total intl minutes  total intl calls  total intl charge  \\\n",
       "0                10.0                 3               2.70   \n",
       "1                13.7                 3               3.70   \n",
       "2                12.2                 5               3.29   \n",
       "3                 6.6                 7               1.78   \n",
       "4                10.1                 3               2.73   \n",
       "\n",
       "   customer service calls  churn  \n",
       "0                       1  False  \n",
       "1                       1  False  \n",
       "2                       0  False  \n",
       "3                       2  False  \n",
       "4                       3  False  \n",
       "\n",
       "[5 rows x 21 columns]"
      ]
     },
     "execution_count": 7,
     "metadata": {},
     "output_type": "execute_result"
    }
   ],
   "source": [
    "#lets look at the first five rows of our data\n",
    "df.head()"
   ]
  },
  {
   "cell_type": "code",
   "execution_count": 8,
   "id": "959a9e98",
   "metadata": {},
   "outputs": [
    {
     "data": {
      "text/plain": [
       "False    2850\n",
       "True      483\n",
       "Name: churn, dtype: int64"
      ]
     },
     "execution_count": 8,
     "metadata": {},
     "output_type": "execute_result"
    }
   ],
   "source": [
    "df['churn'] = df['churn'].replace(['True', 'False'], [1, 0])\n",
    "df.head(2)\n",
    "df['churn'].value_counts()"
   ]
  },
  {
   "cell_type": "code",
   "execution_count": 9,
   "id": "04d9b40a",
   "metadata": {},
   "outputs": [
    {
     "data": {
      "text/plain": [
       "Index(['state', 'account length', 'area code', 'phone number',\n",
       "       'international plan', 'voice mail plan', 'number vmail messages',\n",
       "       'total day minutes', 'total day calls', 'total day charge',\n",
       "       'total eve minutes', 'total eve calls', 'total eve charge',\n",
       "       'total night minutes', 'total night calls', 'total night charge',\n",
       "       'total intl minutes', 'total intl calls', 'total intl charge',\n",
       "       'customer service calls', 'churn'],\n",
       "      dtype='object')"
      ]
     },
     "execution_count": 9,
     "metadata": {},
     "output_type": "execute_result"
    }
   ],
   "source": [
    "#lets check the columns we are working with\n",
    "df.columns"
   ]
  },
  {
   "cell_type": "code",
   "execution_count": 10,
   "id": "4cad4498",
   "metadata": {},
   "outputs": [
    {
     "name": "stdout",
     "output_type": "stream",
     "text": [
      "The dataset has 3333 rows and 21 columns\n"
     ]
    }
   ],
   "source": [
    "#lets write a function to check the shape of our data\n",
    "def shape(data):\n",
    "    rows=data.shape[0]\n",
    "    columns=data.shape[1]\n",
    "    print(\"The dataset has {} rows and {} columns\".format(rows,columns))\n",
    "    \n",
    "shape(df)"
   ]
  },
  {
   "cell_type": "code",
   "execution_count": 11,
   "id": "7979ceb3",
   "metadata": {
    "scrolled": true
   },
   "outputs": [
    {
     "data": {
      "text/plain": [
       "state                      object\n",
       "account length              int64\n",
       "area code                   int64\n",
       "phone number               object\n",
       "international plan         object\n",
       "voice mail plan            object\n",
       "number vmail messages       int64\n",
       "total day minutes         float64\n",
       "total day calls             int64\n",
       "total day charge          float64\n",
       "total eve minutes         float64\n",
       "total eve calls             int64\n",
       "total eve charge          float64\n",
       "total night minutes       float64\n",
       "total night calls           int64\n",
       "total night charge        float64\n",
       "total intl minutes        float64\n",
       "total intl calls            int64\n",
       "total intl charge         float64\n",
       "customer service calls      int64\n",
       "churn                        bool\n",
       "dtype: object"
      ]
     },
     "execution_count": 11,
     "metadata": {},
     "output_type": "execute_result"
    }
   ],
   "source": [
    "#We can check the data types of our columns\n",
    "df.dtypes"
   ]
  },
  {
   "cell_type": "code",
   "execution_count": 12,
   "id": "206c4e6c",
   "metadata": {},
   "outputs": [
    {
     "name": "stdout",
     "output_type": "stream",
     "text": [
      "<class 'pandas.core.frame.DataFrame'>\n",
      "RangeIndex: 3333 entries, 0 to 3332\n",
      "Data columns (total 21 columns):\n",
      " #   Column                  Non-Null Count  Dtype  \n",
      "---  ------                  --------------  -----  \n",
      " 0   state                   3333 non-null   object \n",
      " 1   account length          3333 non-null   int64  \n",
      " 2   area code               3333 non-null   int64  \n",
      " 3   phone number            3333 non-null   object \n",
      " 4   international plan      3333 non-null   object \n",
      " 5   voice mail plan         3333 non-null   object \n",
      " 6   number vmail messages   3333 non-null   int64  \n",
      " 7   total day minutes       3333 non-null   float64\n",
      " 8   total day calls         3333 non-null   int64  \n",
      " 9   total day charge        3333 non-null   float64\n",
      " 10  total eve minutes       3333 non-null   float64\n",
      " 11  total eve calls         3333 non-null   int64  \n",
      " 12  total eve charge        3333 non-null   float64\n",
      " 13  total night minutes     3333 non-null   float64\n",
      " 14  total night calls       3333 non-null   int64  \n",
      " 15  total night charge      3333 non-null   float64\n",
      " 16  total intl minutes      3333 non-null   float64\n",
      " 17  total intl calls        3333 non-null   int64  \n",
      " 18  total intl charge       3333 non-null   float64\n",
      " 19  customer service calls  3333 non-null   int64  \n",
      " 20  churn                   3333 non-null   bool   \n",
      "dtypes: bool(1), float64(8), int64(8), object(4)\n",
      "memory usage: 524.2+ KB\n",
      "None\n",
      "       account length    area code  number vmail messages  total day minutes  \\\n",
      "count     3333.000000  3333.000000            3333.000000        3333.000000   \n",
      "mean       101.064806   437.182418               8.099010         179.775098   \n",
      "std         39.822106    42.371290              13.688365          54.467389   \n",
      "min          1.000000   408.000000               0.000000           0.000000   \n",
      "25%         74.000000   408.000000               0.000000         143.700000   \n",
      "50%        101.000000   415.000000               0.000000         179.400000   \n",
      "75%        127.000000   510.000000              20.000000         216.400000   \n",
      "max        243.000000   510.000000              51.000000         350.800000   \n",
      "\n",
      "       total day calls  total day charge  total eve minutes  total eve calls  \\\n",
      "count      3333.000000       3333.000000        3333.000000      3333.000000   \n",
      "mean        100.435644         30.562307         200.980348       100.114311   \n",
      "std          20.069084          9.259435          50.713844        19.922625   \n",
      "min           0.000000          0.000000           0.000000         0.000000   \n",
      "25%          87.000000         24.430000         166.600000        87.000000   \n",
      "50%         101.000000         30.500000         201.400000       100.000000   \n",
      "75%         114.000000         36.790000         235.300000       114.000000   \n",
      "max         165.000000         59.640000         363.700000       170.000000   \n",
      "\n",
      "       total eve charge  total night minutes  total night calls  \\\n",
      "count       3333.000000          3333.000000        3333.000000   \n",
      "mean          17.083540           200.872037         100.107711   \n",
      "std            4.310668            50.573847          19.568609   \n",
      "min            0.000000            23.200000          33.000000   \n",
      "25%           14.160000           167.000000          87.000000   \n",
      "50%           17.120000           201.200000         100.000000   \n",
      "75%           20.000000           235.300000         113.000000   \n",
      "max           30.910000           395.000000         175.000000   \n",
      "\n",
      "       total night charge  total intl minutes  total intl calls  \\\n",
      "count         3333.000000         3333.000000       3333.000000   \n",
      "mean             9.039325           10.237294          4.479448   \n",
      "std              2.275873            2.791840          2.461214   \n",
      "min              1.040000            0.000000          0.000000   \n",
      "25%              7.520000            8.500000          3.000000   \n",
      "50%              9.050000           10.300000          4.000000   \n",
      "75%             10.590000           12.100000          6.000000   \n",
      "max             17.770000           20.000000         20.000000   \n",
      "\n",
      "       total intl charge  customer service calls  \n",
      "count        3333.000000             3333.000000  \n",
      "mean            2.764581                1.562856  \n",
      "std             0.753773                1.315491  \n",
      "min             0.000000                0.000000  \n",
      "25%             2.300000                1.000000  \n",
      "50%             2.780000                1.000000  \n",
      "75%             3.270000                2.000000  \n",
      "max             5.400000                9.000000  \n"
     ]
    }
   ],
   "source": [
    "#Checking the general info and description of our data of our data.\n",
    "print(df.info())\n",
    "print(df.describe())"
   ]
  },
  {
   "cell_type": "code",
   "execution_count": 13,
   "id": "66b6cac7",
   "metadata": {},
   "outputs": [
    {
     "name": "stdout",
     "output_type": "stream",
     "text": [
      "51\n"
     ]
    }
   ],
   "source": [
    "#We want to look at how many distribution of states column.\n",
    "states_representation=df['state'].value_counts()\n",
    "number_of_states=df['state'].nunique()\n",
    "print(number_of_states)"
   ]
  },
  {
   "cell_type": "markdown",
   "id": "86bb1a64",
   "metadata": {},
   "source": [
    "# Data Cleaning"
   ]
  },
  {
   "cell_type": "markdown",
   "id": "dbf5ed35",
   "metadata": {},
   "source": [
    "In this section we will clean our data to remove duplicates, fill or remove missing values and deal with outliers"
   ]
  },
  {
   "cell_type": "markdown",
   "id": "942844bb",
   "metadata": {},
   "source": [
    "# duplicates"
   ]
  },
  {
   "cell_type": "code",
   "execution_count": 14,
   "id": "3e099531",
   "metadata": {},
   "outputs": [
    {
     "name": "stdout",
     "output_type": "stream",
     "text": [
      "The dataset has 0 duplicates\n"
     ]
    }
   ],
   "source": [
    "#We write a function to check and drop all the duplicates\n",
    "def duplicates(data):\n",
    "    duplicates=data.duplicated().sum()\n",
    "    print('The dataset has {} duplicates'.format(duplicates))\n",
    "duplicates(df)    "
   ]
  },
  {
   "cell_type": "markdown",
   "id": "4c533fc9",
   "metadata": {},
   "source": [
    "# missing values"
   ]
  },
  {
   "cell_type": "code",
   "execution_count": 15,
   "id": "050674fd",
   "metadata": {},
   "outputs": [
    {
     "name": "stdout",
     "output_type": "stream",
     "text": [
      "state                     0\n",
      "account length            0\n",
      "area code                 0\n",
      "phone number              0\n",
      "international plan        0\n",
      "voice mail plan           0\n",
      "number vmail messages     0\n",
      "total day minutes         0\n",
      "total day calls           0\n",
      "total day charge          0\n",
      "total eve minutes         0\n",
      "total eve calls           0\n",
      "total eve charge          0\n",
      "total night minutes       0\n",
      "total night calls         0\n",
      "total night charge        0\n",
      "total intl minutes        0\n",
      "total intl calls          0\n",
      "total intl charge         0\n",
      "customer service calls    0\n",
      "churn                     0\n",
      "dtype: int64\n"
     ]
    }
   ],
   "source": [
    "#Lets write a function to check the missing values\n",
    "def missing(data):\n",
    "    missing=data.isnull().sum()\n",
    "    print(missing)\n",
    "    \n",
    "missing(df)"
   ]
  },
  {
   "cell_type": "markdown",
   "id": "aca3e580",
   "metadata": {},
   "source": [
    "From the code above we can see that our dataset has no duplicates or missing values"
   ]
  },
  {
   "cell_type": "markdown",
   "id": "965f4f7a",
   "metadata": {},
   "source": [
    "# Outliers"
   ]
  },
  {
   "cell_type": "code",
   "execution_count": 16,
   "id": "8bc31cb3",
   "metadata": {},
   "outputs": [],
   "source": [
    "#This are the columns we will be removing outliers from\n",
    "new_columns=['account length','number vmail messages','total day minutes','total day calls',\n",
    "            'total day charge','total eve minutes','total eve calls','total eve charge',\n",
    "            'total night minutes','total night calls','total night charge','total intl minutes',\n",
    "            'total intl calls','total intl charge','customer service calls']"
   ]
  },
  {
   "cell_type": "code",
   "execution_count": 17,
   "id": "91ec084e",
   "metadata": {},
   "outputs": [
    {
     "data": {
      "image/png": "[encoded data removed]",
      "text/plain": [
       "<Figure size 432x288 with 1 Axes>"
      ]
     },
     "metadata": {
      "needs_background": "light"
     },
     "output_type": "display_data"
    },
    {
     "data": {
      "image/png": "[encoded data removed]",
      "text/plain": [
       "<Figure size 432x288 with 1 Axes>"
      ]
     },
     "metadata": {
      "needs_background": "light"
     },
     "output_type": "display_data"
    },
    {
     "data": {
      "image/png": "[encoded data removed]",
      "text/plain": [
       "<Figure size 432x288 with 1 Axes>"
      ]
     },
     "metadata": {
      "needs_background": "light"
     },
     "output_type": "display_data"
    },
    {
     "data": {
      "image/png": "[encoded data removed]",
      "text/plain": [
       "<Figure size 432x288 with 1 Axes>"
      ]
     },
     "metadata": {
      "needs_background": "light"
     },
     "output_type": "display_data"
    },
    {
     "data": {
      "image/png": "[encoded data removed]",
      "text/plain": [
       "<Figure size 432x288 with 1 Axes>"
      ]
     },
     "metadata": {
      "needs_background": "light"
     },
     "output_type": "display_data"
    },
    {
     "data": {
      "image/png": "[encoded data removed]",
      "text/plain": [
       "<Figure size 432x288 with 1 Axes>"
      ]
     },
     "metadata": {
      "needs_background": "light"
     },
     "output_type": "display_data"
    },
    {
     "data": {
      "image/png": "[encoded data removed]",
      "text/plain": [
       "<Figure size 432x288 with 1 Axes>"
      ]
     },
     "metadata": {
      "needs_background": "light"
     },
     "output_type": "display_data"
    },
    {
     "data": {
      "image/png": "[encoded data removed]",
      "text/plain": [
       "<Figure size 432x288 with 1 Axes>"
      ]
     },
     "metadata": {
      "needs_background": "light"
     },
     "output_type": "display_data"
    },
    {
     "data": {
      "image/png": "[encoded data removed]",
      "text/plain": [
       "<Figure size 432x288 with 1 Axes>"
      ]
     },
     "metadata": {
      "needs_background": "light"
     },
     "output_type": "display_data"
    },
    {
     "data": {
      "image/png": "[encoded data removed]",
      "text/plain": [
       "<Figure size 432x288 with 1 Axes>"
      ]
     },
     "metadata": {
      "needs_background": "light"
     },
     "output_type": "display_data"
    },
    {
     "data": {
      "image/png": "[encoded data removed]",
      "text/plain": [
       "<Figure size 432x288 with 1 Axes>"
      ]
     },
     "metadata": {
      "needs_background": "light"
     },
     "output_type": "display_data"
    },
    {
     "data": {
      "image/png": "[encoded data removed]",
      "text/plain": [
       "<Figure size 432x288 with 1 Axes>"
      ]
     },
     "metadata": {
      "needs_background": "light"
     },
     "output_type": "display_data"
    },
    {
     "data": {
      "image/png": "[encoded data removed]",
      "text/plain": [
       "<Figure size 432x288 with 1 Axes>"
      ]
     },
     "metadata": {
      "needs_background": "light"
     },
     "output_type": "display_data"
    },
    {
     "data": {
      "image/png": "[encoded data removed]",
      "text/plain": [
       "<Figure size 432x288 with 1 Axes>"
      ]
     },
     "metadata": {
      "needs_background": "light"
     },
     "output_type": "display_data"
    },
    {
     "data": {
      "image/png": "[encoded data removed]",
      "text/plain": [
       "<Figure size 432x288 with 1 Axes>"
      ]
     },
     "metadata": {
      "needs_background": "light"
     },
     "output_type": "display_data"
    }
   ],
   "source": [
    "for col in new_columns:\n",
    "    plt.figure()\n",
    "    plt.boxplot(df[col])\n",
    "    plt.title(col)\n",
    "    plt.show()"
   ]
  },
  {
   "cell_type": "markdown",
   "id": "0de93b66",
   "metadata": {},
   "source": [
    "From the above boxplots we can see that we have some outliers in our columns"
   ]
  },
  {
   "cell_type": "code",
   "execution_count": 18,
   "id": "c2b8c70e",
   "metadata": {},
   "outputs": [
    {
     "data": {
      "text/html": [
       "<div>\n",
       "<style scoped>\n",
       "    .dataframe tbody tr th:only-of-type {\n",
       "        vertical-align: middle;\n",
       "    }\n",
       "\n",
       "    .dataframe tbody tr th {\n",
       "        vertical-align: top;\n",
       "    }\n",
       "\n",
       "    .dataframe thead th {\n",
       "        text-align: right;\n",
       "    }\n",
       "</style>\n",
       "<table border=\"1\" class=\"dataframe\">\n",
       "  <thead>\n",
       "    <tr style=\"text-align: right;\">\n",
       "      <th></th>\n",
       "      <th>state</th>\n",
       "      <th>account length</th>\n",
       "      <th>area code</th>\n",
       "      <th>phone number</th>\n",
       "      <th>international plan</th>\n",
       "      <th>voice mail plan</th>\n",
       "      <th>number vmail messages</th>\n",
       "      <th>total day minutes</th>\n",
       "      <th>total day calls</th>\n",
       "      <th>total day charge</th>\n",
       "      <th>...</th>\n",
       "      <th>total eve calls</th>\n",
       "      <th>total eve charge</th>\n",
       "      <th>total night minutes</th>\n",
       "      <th>total night calls</th>\n",
       "      <th>total night charge</th>\n",
       "      <th>total intl minutes</th>\n",
       "      <th>total intl calls</th>\n",
       "      <th>total intl charge</th>\n",
       "      <th>customer service calls</th>\n",
       "      <th>churn</th>\n",
       "    </tr>\n",
       "  </thead>\n",
       "  <tbody>\n",
       "    <tr>\n",
       "      <th>0</th>\n",
       "      <td>KS</td>\n",
       "      <td>128</td>\n",
       "      <td>415</td>\n",
       "      <td>382-4657</td>\n",
       "      <td>no</td>\n",
       "      <td>yes</td>\n",
       "      <td>25</td>\n",
       "      <td>265.1</td>\n",
       "      <td>110</td>\n",
       "      <td>45.07</td>\n",
       "      <td>...</td>\n",
       "      <td>99</td>\n",
       "      <td>16.78</td>\n",
       "      <td>244.7</td>\n",
       "      <td>91</td>\n",
       "      <td>11.01</td>\n",
       "      <td>10.0</td>\n",
       "      <td>3</td>\n",
       "      <td>2.70</td>\n",
       "      <td>1</td>\n",
       "      <td>False</td>\n",
       "    </tr>\n",
       "    <tr>\n",
       "      <th>1</th>\n",
       "      <td>OH</td>\n",
       "      <td>107</td>\n",
       "      <td>415</td>\n",
       "      <td>371-7191</td>\n",
       "      <td>no</td>\n",
       "      <td>yes</td>\n",
       "      <td>26</td>\n",
       "      <td>161.6</td>\n",
       "      <td>123</td>\n",
       "      <td>27.47</td>\n",
       "      <td>...</td>\n",
       "      <td>103</td>\n",
       "      <td>16.62</td>\n",
       "      <td>254.4</td>\n",
       "      <td>103</td>\n",
       "      <td>11.45</td>\n",
       "      <td>13.7</td>\n",
       "      <td>3</td>\n",
       "      <td>3.70</td>\n",
       "      <td>1</td>\n",
       "      <td>False</td>\n",
       "    </tr>\n",
       "    <tr>\n",
       "      <th>2</th>\n",
       "      <td>NJ</td>\n",
       "      <td>137</td>\n",
       "      <td>415</td>\n",
       "      <td>358-1921</td>\n",
       "      <td>no</td>\n",
       "      <td>no</td>\n",
       "      <td>0</td>\n",
       "      <td>243.4</td>\n",
       "      <td>114</td>\n",
       "      <td>41.38</td>\n",
       "      <td>...</td>\n",
       "      <td>110</td>\n",
       "      <td>10.30</td>\n",
       "      <td>162.6</td>\n",
       "      <td>104</td>\n",
       "      <td>7.32</td>\n",
       "      <td>12.2</td>\n",
       "      <td>5</td>\n",
       "      <td>3.29</td>\n",
       "      <td>0</td>\n",
       "      <td>False</td>\n",
       "    </tr>\n",
       "    <tr>\n",
       "      <th>4</th>\n",
       "      <td>OK</td>\n",
       "      <td>75</td>\n",
       "      <td>415</td>\n",
       "      <td>330-6626</td>\n",
       "      <td>yes</td>\n",
       "      <td>no</td>\n",
       "      <td>0</td>\n",
       "      <td>166.7</td>\n",
       "      <td>113</td>\n",
       "      <td>28.34</td>\n",
       "      <td>...</td>\n",
       "      <td>122</td>\n",
       "      <td>12.61</td>\n",
       "      <td>186.9</td>\n",
       "      <td>121</td>\n",
       "      <td>8.41</td>\n",
       "      <td>10.1</td>\n",
       "      <td>3</td>\n",
       "      <td>2.73</td>\n",
       "      <td>3</td>\n",
       "      <td>False</td>\n",
       "    </tr>\n",
       "    <tr>\n",
       "      <th>5</th>\n",
       "      <td>AL</td>\n",
       "      <td>118</td>\n",
       "      <td>510</td>\n",
       "      <td>391-8027</td>\n",
       "      <td>yes</td>\n",
       "      <td>no</td>\n",
       "      <td>0</td>\n",
       "      <td>223.4</td>\n",
       "      <td>98</td>\n",
       "      <td>37.98</td>\n",
       "      <td>...</td>\n",
       "      <td>101</td>\n",
       "      <td>18.75</td>\n",
       "      <td>203.9</td>\n",
       "      <td>118</td>\n",
       "      <td>9.18</td>\n",
       "      <td>6.3</td>\n",
       "      <td>6</td>\n",
       "      <td>1.70</td>\n",
       "      <td>0</td>\n",
       "      <td>False</td>\n",
       "    </tr>\n",
       "    <tr>\n",
       "      <th>...</th>\n",
       "      <td>...</td>\n",
       "      <td>...</td>\n",
       "      <td>...</td>\n",
       "      <td>...</td>\n",
       "      <td>...</td>\n",
       "      <td>...</td>\n",
       "      <td>...</td>\n",
       "      <td>...</td>\n",
       "      <td>...</td>\n",
       "      <td>...</td>\n",
       "      <td>...</td>\n",
       "      <td>...</td>\n",
       "      <td>...</td>\n",
       "      <td>...</td>\n",
       "      <td>...</td>\n",
       "      <td>...</td>\n",
       "      <td>...</td>\n",
       "      <td>...</td>\n",
       "      <td>...</td>\n",
       "      <td>...</td>\n",
       "      <td>...</td>\n",
       "    </tr>\n",
       "    <tr>\n",
       "      <th>3324</th>\n",
       "      <td>WV</td>\n",
       "      <td>159</td>\n",
       "      <td>415</td>\n",
       "      <td>377-1164</td>\n",
       "      <td>no</td>\n",
       "      <td>no</td>\n",
       "      <td>0</td>\n",
       "      <td>169.8</td>\n",
       "      <td>114</td>\n",
       "      <td>28.87</td>\n",
       "      <td>...</td>\n",
       "      <td>105</td>\n",
       "      <td>16.80</td>\n",
       "      <td>193.7</td>\n",
       "      <td>82</td>\n",
       "      <td>8.72</td>\n",
       "      <td>11.6</td>\n",
       "      <td>4</td>\n",
       "      <td>3.13</td>\n",
       "      <td>1</td>\n",
       "      <td>False</td>\n",
       "    </tr>\n",
       "    <tr>\n",
       "      <th>3325</th>\n",
       "      <td>OH</td>\n",
       "      <td>78</td>\n",
       "      <td>408</td>\n",
       "      <td>368-8555</td>\n",
       "      <td>no</td>\n",
       "      <td>no</td>\n",
       "      <td>0</td>\n",
       "      <td>193.4</td>\n",
       "      <td>99</td>\n",
       "      <td>32.88</td>\n",
       "      <td>...</td>\n",
       "      <td>88</td>\n",
       "      <td>9.94</td>\n",
       "      <td>243.3</td>\n",
       "      <td>109</td>\n",
       "      <td>10.95</td>\n",
       "      <td>9.3</td>\n",
       "      <td>4</td>\n",
       "      <td>2.51</td>\n",
       "      <td>2</td>\n",
       "      <td>False</td>\n",
       "    </tr>\n",
       "    <tr>\n",
       "      <th>3326</th>\n",
       "      <td>OH</td>\n",
       "      <td>96</td>\n",
       "      <td>415</td>\n",
       "      <td>347-6812</td>\n",
       "      <td>no</td>\n",
       "      <td>no</td>\n",
       "      <td>0</td>\n",
       "      <td>106.6</td>\n",
       "      <td>128</td>\n",
       "      <td>18.12</td>\n",
       "      <td>...</td>\n",
       "      <td>87</td>\n",
       "      <td>24.21</td>\n",
       "      <td>178.9</td>\n",
       "      <td>92</td>\n",
       "      <td>8.05</td>\n",
       "      <td>14.9</td>\n",
       "      <td>7</td>\n",
       "      <td>4.02</td>\n",
       "      <td>1</td>\n",
       "      <td>False</td>\n",
       "    </tr>\n",
       "    <tr>\n",
       "      <th>3327</th>\n",
       "      <td>SC</td>\n",
       "      <td>79</td>\n",
       "      <td>415</td>\n",
       "      <td>348-3830</td>\n",
       "      <td>no</td>\n",
       "      <td>no</td>\n",
       "      <td>0</td>\n",
       "      <td>134.7</td>\n",
       "      <td>98</td>\n",
       "      <td>22.90</td>\n",
       "      <td>...</td>\n",
       "      <td>68</td>\n",
       "      <td>16.12</td>\n",
       "      <td>221.4</td>\n",
       "      <td>128</td>\n",
       "      <td>9.96</td>\n",
       "      <td>11.8</td>\n",
       "      <td>5</td>\n",
       "      <td>3.19</td>\n",
       "      <td>2</td>\n",
       "      <td>False</td>\n",
       "    </tr>\n",
       "    <tr>\n",
       "      <th>3332</th>\n",
       "      <td>TN</td>\n",
       "      <td>74</td>\n",
       "      <td>415</td>\n",
       "      <td>400-4344</td>\n",
       "      <td>no</td>\n",
       "      <td>yes</td>\n",
       "      <td>25</td>\n",
       "      <td>234.4</td>\n",
       "      <td>113</td>\n",
       "      <td>39.85</td>\n",
       "      <td>...</td>\n",
       "      <td>82</td>\n",
       "      <td>22.60</td>\n",
       "      <td>241.4</td>\n",
       "      <td>77</td>\n",
       "      <td>10.86</td>\n",
       "      <td>13.7</td>\n",
       "      <td>4</td>\n",
       "      <td>3.70</td>\n",
       "      <td>0</td>\n",
       "      <td>False</td>\n",
       "    </tr>\n",
       "  </tbody>\n",
       "</table>\n",
       "<p>1718 rows × 21 columns</p>\n",
       "</div>"
      ],
      "text/plain": [
       "     state  account length  area code phone number international plan  \\\n",
       "0       KS             128        415     382-4657                 no   \n",
       "1       OH             107        415     371-7191                 no   \n",
       "2       NJ             137        415     358-1921                 no   \n",
       "4       OK              75        415     330-6626                yes   \n",
       "5       AL             118        510     391-8027                yes   \n",
       "...    ...             ...        ...          ...                ...   \n",
       "3324    WV             159        415     377-1164                 no   \n",
       "3325    OH              78        408     368-8555                 no   \n",
       "3326    OH              96        415     347-6812                 no   \n",
       "3327    SC              79        415     348-3830                 no   \n",
       "3332    TN              74        415     400-4344                 no   \n",
       "\n",
       "     voice mail plan  number vmail messages  total day minutes  \\\n",
       "0                yes                     25              265.1   \n",
       "1                yes                     26              161.6   \n",
       "2                 no                      0              243.4   \n",
       "4                 no                      0              166.7   \n",
       "5                 no                      0              223.4   \n",
       "...              ...                    ...                ...   \n",
       "3324              no                      0              169.8   \n",
       "3325              no                      0              193.4   \n",
       "3326              no                      0              106.6   \n",
       "3327              no                      0              134.7   \n",
       "3332             yes                     25              234.4   \n",
       "\n",
       "      total day calls  total day charge  ...  total eve calls  \\\n",
       "0                 110             45.07  ...               99   \n",
       "1                 123             27.47  ...              103   \n",
       "2                 114             41.38  ...              110   \n",
       "4                 113             28.34  ...              122   \n",
       "5                  98             37.98  ...              101   \n",
       "...               ...               ...  ...              ...   \n",
       "3324              114             28.87  ...              105   \n",
       "3325               99             32.88  ...               88   \n",
       "3326              128             18.12  ...               87   \n",
       "3327               98             22.90  ...               68   \n",
       "3332              113             39.85  ...               82   \n",
       "\n",
       "      total eve charge  total night minutes  total night calls  \\\n",
       "0                16.78                244.7                 91   \n",
       "1                16.62                254.4                103   \n",
       "2                10.30                162.6                104   \n",
       "4                12.61                186.9                121   \n",
       "5                18.75                203.9                118   \n",
       "...                ...                  ...                ...   \n",
       "3324             16.80                193.7                 82   \n",
       "3325              9.94                243.3                109   \n",
       "3326             24.21                178.9                 92   \n",
       "3327             16.12                221.4                128   \n",
       "3332             22.60                241.4                 77   \n",
       "\n",
       "      total night charge  total intl minutes  total intl calls  \\\n",
       "0                  11.01                10.0                 3   \n",
       "1                  11.45                13.7                 3   \n",
       "2                   7.32                12.2                 5   \n",
       "4                   8.41                10.1                 3   \n",
       "5                   9.18                 6.3                 6   \n",
       "...                  ...                 ...               ...   \n",
       "3324                8.72                11.6                 4   \n",
       "3325               10.95                 9.3                 4   \n",
       "3326                8.05                14.9                 7   \n",
       "3327                9.96                11.8                 5   \n",
       "3332               10.86                13.7                 4   \n",
       "\n",
       "      total intl charge  customer service calls  churn  \n",
       "0                  2.70                       1  False  \n",
       "1                  3.70                       1  False  \n",
       "2                  3.29                       0  False  \n",
       "4                  2.73                       3  False  \n",
       "5                  1.70                       0  False  \n",
       "...                 ...                     ...    ...  \n",
       "3324               3.13                       1  False  \n",
       "3325               2.51                       2  False  \n",
       "3326               4.02                       1  False  \n",
       "3327               3.19                       2  False  \n",
       "3332               3.70                       0  False  \n",
       "\n",
       "[1718 rows x 21 columns]"
      ]
     },
     "execution_count": 18,
     "metadata": {},
     "output_type": "execute_result"
    }
   ],
   "source": [
    "def remove_outliers(data, cols):\n",
    "    for col in new_columns:\n",
    "        z = np.abs(stats.zscore(data[col]))\n",
    "        threshold = 2\n",
    "        data = data[z < threshold]\n",
    "    return data\n",
    "data=remove_outliers(df,new_columns)\n",
    "data"
   ]
  },
  {
   "cell_type": "code",
   "execution_count": 19,
   "id": "159e49a8",
   "metadata": {},
   "outputs": [
    {
     "data": {
      "image/png": "[encoded data removed]",
      "text/plain": [
       "<Figure size 432x288 with 1 Axes>"
      ]
     },
     "metadata": {
      "needs_background": "light"
     },
     "output_type": "display_data"
    },
    {
     "data": {
      "image/png": "[encoded data removed]",
      "text/plain": [
       "<Figure size 432x288 with 1 Axes>"
      ]
     },
     "metadata": {
      "needs_background": "light"
     },
     "output_type": "display_data"
    },
    {
     "data": {
      "image/png": "[encoded data removed]",
      "text/plain": [
       "<Figure size 432x288 with 1 Axes>"
      ]
     },
     "metadata": {
      "needs_background": "light"
     },
     "output_type": "display_data"
    },
    {
     "data": {
      "image/png": "[encoded data removed]",
      "text/plain": [
       "<Figure size 432x288 with 1 Axes>"
      ]
     },
     "metadata": {
      "needs_background": "light"
     },
     "output_type": "display_data"
    },
    {
     "data": {
      "image/png": "[encoded data removed]",
      "text/plain": [
       "<Figure size 432x288 with 1 Axes>"
      ]
     },
     "metadata": {
      "needs_background": "light"
     },
     "output_type": "display_data"
    },
    {
     "data": {
      "image/png": "[encoded data removed]",
      "text/plain": [
       "<Figure size 432x288 with 1 Axes>"
      ]
     },
     "metadata": {
      "needs_background": "light"
     },
     "output_type": "display_data"
    },
    {
     "data": {
      "image/png": "[encoded data removed]",
      "text/plain": [
       "<Figure size 432x288 with 1 Axes>"
      ]
     },
     "metadata": {
      "needs_background": "light"
     },
     "output_type": "display_data"
    },
    {
     "data": {
      "image/png": "[encoded data removed]",
      "text/plain": [
       "<Figure size 432x288 with 1 Axes>"
      ]
     },
     "metadata": {
      "needs_background": "light"
     },
     "output_type": "display_data"
    },
    {
     "data": {
      "image/png": "[encoded data removed]",
      "text/plain": [
       "<Figure size 432x288 with 1 Axes>"
      ]
     },
     "metadata": {
      "needs_background": "light"
     },
     "output_type": "display_data"
    },
    {
     "data": {
      "image/png": "[encoded data removed]",
      "text/plain": [
       "<Figure size 432x288 with 1 Axes>"
      ]
     },
     "metadata": {
      "needs_background": "light"
     },
     "output_type": "display_data"
    },
    {
     "data": {
      "image/png": "[encoded data removed]",
      "text/plain": [
       "<Figure size 432x288 with 1 Axes>"
      ]
     },
     "metadata": {
      "needs_background": "light"
     },
     "output_type": "display_data"
    },
    {
     "data": {
      "image/png": "[encoded data removed]",
      "text/plain": [
       "<Figure size 432x288 with 1 Axes>"
      ]
     },
     "metadata": {
      "needs_background": "light"
     },
     "output_type": "display_data"
    },
    {
     "data": {
      "image/png": "[encoded data removed]",
      "text/plain": [
       "<Figure size 432x288 with 1 Axes>"
      ]
     },
     "metadata": {
      "needs_background": "light"
     },
     "output_type": "display_data"
    },
    {
     "data": {
      "image/png": "[encoded data removed]",
      "text/plain": [
       "<Figure size 432x288 with 1 Axes>"
      ]
     },
     "metadata": {
      "needs_background": "light"
     },
     "output_type": "display_data"
    },
    {
     "data": {
      "image/png": "[encoded data removed]",
      "text/plain": [
       "<Figure size 432x288 with 1 Axes>"
      ]
     },
     "metadata": {
      "needs_background": "light"
     },
     "output_type": "display_data"
    }
   ],
   "source": [
    "for col in new_columns:\n",
    "    plt.figure()\n",
    "    plt.boxplot(data[col])\n",
    "    plt.title(col)\n",
    "    plt.show()"
   ]
  },
  {
   "cell_type": "markdown",
   "id": "14a3e210",
   "metadata": {},
   "source": [
    "From the box plots above we can see we have removed outliers from all the columns aside from afew which have litlle outliers"
   ]
  },
  {
   "cell_type": "markdown",
   "id": "980a99a5",
   "metadata": {},
   "source": [
    "# EDA(EXPLORATORY DATA ANALYSIS)"
   ]
  },
  {
   "cell_type": "markdown",
   "id": "b7762fa7",
   "metadata": {},
   "source": [
    "IN THIS SECTION WE WILL BUILD SOME VISUALISATIONS TO GET MORE INFO ABOUT OUR DATA"
   ]
  },
  {
   "cell_type": "code",
   "execution_count": 20,
   "id": "f90971cc",
   "metadata": {},
   "outputs": [
    {
     "data": {
      "text/plain": [
       "Index(['state', 'account length', 'area code', 'phone number',\n",
       "       'international plan', 'voice mail plan', 'number vmail messages',\n",
       "       'total day minutes', 'total day calls', 'total day charge',\n",
       "       'total eve minutes', 'total eve calls', 'total eve charge',\n",
       "       'total night minutes', 'total night calls', 'total night charge',\n",
       "       'total intl minutes', 'total intl calls', 'total intl charge',\n",
       "       'customer service calls', 'churn'],\n",
       "      dtype='object')"
      ]
     },
     "execution_count": 20,
     "metadata": {},
     "output_type": "execute_result"
    }
   ],
   "source": [
    "data.columns"
   ]
  },
  {
   "cell_type": "code",
   "execution_count": null,
   "id": "869bed79",
   "metadata": {},
   "outputs": [],
   "source": []
  },
  {
   "cell_type": "code",
   "execution_count": 21,
   "id": "6da8a538",
   "metadata": {},
   "outputs": [
    {
     "data": {
      "text/plain": [
       "<AxesSubplot:xlabel='international plan', ylabel='count'>"
      ]
     },
     "execution_count": 21,
     "metadata": {},
     "output_type": "execute_result"
    },
    {
     "data": {
      "image/png": "[encoded data removed]",
      "text/plain": [
       "<Figure size 720x504 with 1 Axes>"
      ]
     },
     "metadata": {
      "needs_background": "light"
     },
     "output_type": "display_data"
    }
   ],
   "source": [
    "#Let us plot a vusual of international plan \n",
    "fig,ax=plt.subplots(figsize=(10,7))\n",
    "sns.countplot(x='international plan',data=data)"
   ]
  },
  {
   "cell_type": "markdown",
   "id": "d16ad6dd",
   "metadata": {},
   "source": [
    "From the above plot we can see that more than three quaters of the people do not have an intenational plan."
   ]
  },
  {
   "cell_type": "code",
   "execution_count": 22,
   "id": "074e26b4",
   "metadata": {},
   "outputs": [
    {
     "data": {
      "text/plain": [
       "<AxesSubplot:xlabel='voice mail plan', ylabel='count'>"
      ]
     },
     "execution_count": 22,
     "metadata": {},
     "output_type": "execute_result"
    },
    {
     "data": {
      "image/png": "[encoded data removed]",
      "text/plain": [
       "<Figure size 720x504 with 1 Axes>"
      ]
     },
     "metadata": {
      "needs_background": "light"
     },
     "output_type": "display_data"
    }
   ],
   "source": [
    "#Lets us also check the distribution of voice mail plan\n",
    "fig,ax=plt.subplots(figsize=(10,7))\n",
    "sns.countplot(x='voice mail plan',data=data)"
   ]
  },
  {
   "cell_type": "code",
   "execution_count": 23,
   "id": "ead4f245",
   "metadata": {},
   "outputs": [
    {
     "data": {
      "text/plain": [
       "<AxesSubplot:xlabel='churn', ylabel='count'>"
      ]
     },
     "execution_count": 23,
     "metadata": {},
     "output_type": "execute_result"
    },
    {
     "data": {
      "image/png": "[encoded data removed]",
      "text/plain": [
       "<Figure size 720x504 with 1 Axes>"
      ]
     },
     "metadata": {
      "needs_background": "light"
     },
     "output_type": "display_data"
    }
   ],
   "source": [
    "#The distribution of our target variable\n",
    "fig,ax=plt.subplots(figsize=(10,7))\n",
    "sns.countplot(data['churn'])"
   ]
  },
  {
   "cell_type": "code",
   "execution_count": 89,
   "id": "f46b7ffa",
   "metadata": {},
   "outputs": [
    {
     "data": {
      "text/plain": [
       "<AxesSubplot:xlabel='area code', ylabel='churn'>"
      ]
     },
     "execution_count": 89,
     "metadata": {},
     "output_type": "execute_result"
    },
    {
     "data": {
      "image/png": "[encoded data removed]",
      "text/plain": [
       "<Figure size 720x504 with 1 Axes>"
      ]
     },
     "metadata": {
      "needs_background": "light"
     },
     "output_type": "display_data"
    }
   ],
   "source": [
    "#Churn rate per area code\n",
    "fig,ax=plt.subplots(figsize=(10,7))\n",
    "sns.barplot(x=\"area code\",y='churn',data=data)"
   ]
  },
  {
   "cell_type": "markdown",
   "id": "6f048056",
   "metadata": {},
   "source": [
    "Most customers who churn are from area 408 followed by area 510 and area 415 has the lowest churn level"
   ]
  },
  {
   "cell_type": "markdown",
   "id": "5f1b1442",
   "metadata": {},
   "source": [
    "The countplot tells us that we retained most of our customers and the churn rate was a bit low"
   ]
  },
  {
   "cell_type": "markdown",
   "id": "0da0f456",
   "metadata": {},
   "source": [
    "We can see that many people also do not have a voice mail plan."
   ]
  },
  {
   "cell_type": "code",
   "execution_count": 25,
   "id": "89d832d8",
   "metadata": {},
   "outputs": [
    {
     "data": {
      "text/plain": [
       "<AxesSubplot:>"
      ]
     },
     "execution_count": 25,
     "metadata": {},
     "output_type": "execute_result"
    },
    {
     "data": {
      "image/png": "[encoded data removed]",
      "text/plain": [
       "<Figure size 432x288 with 1 Axes>"
      ]
     },
     "metadata": {
      "needs_background": "light"
     },
     "output_type": "display_data"
    }
   ],
   "source": [
    "#We plot the area code with most vmessages \n",
    "grouped=data.groupby('area code').mean()\n",
    "area_code=list(dict(grouped['number vmail messages']).keys())\n",
    "number_vmessages=list(dict(grouped['number vmail messages']).values())\n",
    "sns.barplot(x=area_code,y=number_vmessages)"
   ]
  },
  {
   "cell_type": "markdown",
   "id": "8123e0f5",
   "metadata": {},
   "source": [
    "What we can see is that area code 415 has the highest amount of voice mail messages"
   ]
  },
  {
   "cell_type": "code",
   "execution_count": 26,
   "id": "886dccd2",
   "metadata": {},
   "outputs": [
    {
     "data": {
      "text/plain": [
       "<AxesSubplot:xlabel='total day calls', ylabel='Density'>"
      ]
     },
     "execution_count": 26,
     "metadata": {},
     "output_type": "execute_result"
    },
    {
     "data": {
      "image/png": "[encoded data removed]",
      "text/plain": [
       "<Figure size 432x288 with 1 Axes>"
      ]
     },
     "metadata": {
      "needs_background": "light"
     },
     "output_type": "display_data"
    }
   ],
   "source": [
    "#We can look at the distribution of total day calls\n",
    "sns.distplot(data['total day calls'])"
   ]
  },
  {
   "cell_type": "markdown",
   "id": "14be4767",
   "metadata": {},
   "source": [
    "The total day calls have a normal distribution."
   ]
  },
  {
   "cell_type": "code",
   "execution_count": 27,
   "id": "eaad98f1",
   "metadata": {},
   "outputs": [
    {
     "data": {
      "text/plain": [
       "<AxesSubplot:xlabel='total night calls', ylabel='Density'>"
      ]
     },
     "execution_count": 27,
     "metadata": {},
     "output_type": "execute_result"
    },
    {
     "data": {
      "image/png": "[encoded data removed]",
      "text/plain": [
       "<Figure size 432x288 with 1 Axes>"
      ]
     },
     "metadata": {
      "needs_background": "light"
     },
     "output_type": "display_data"
    }
   ],
   "source": [
    "#The distribution of total night calls\n",
    "sns.distplot(data['total night calls'])"
   ]
  },
  {
   "cell_type": "markdown",
   "id": "a4971b94",
   "metadata": {},
   "source": [
    "The night calls too are evenly distributed"
   ]
  },
  {
   "cell_type": "code",
   "execution_count": 28,
   "id": "47943a99",
   "metadata": {},
   "outputs": [
    {
     "data": {
      "text/plain": [
       "<AxesSubplot:xlabel='area code', ylabel='total day calls'>"
      ]
     },
     "execution_count": 28,
     "metadata": {},
     "output_type": "execute_result"
    },
    {
     "data": {
      "image/png": "[encoded data removed]",
      "text/plain": [
       "<Figure size 432x288 with 1 Axes>"
      ]
     },
     "metadata": {
      "needs_background": "light"
     },
     "output_type": "display_data"
    }
   ],
   "source": [
    "#A bar plot of day calls according to area code\n",
    "sns.barplot(x='area code',y='total day calls',data=data,estimator=np.mean)"
   ]
  },
  {
   "cell_type": "markdown",
   "id": "9eb62b4e",
   "metadata": {},
   "source": [
    "All area codes have almost the same amount of day calls"
   ]
  },
  {
   "cell_type": "code",
   "execution_count": 29,
   "id": "4d98ad03",
   "metadata": {},
   "outputs": [
    {
     "data": {
      "text/plain": [
       "<AxesSubplot:xlabel='area code', ylabel='total intl calls'>"
      ]
     },
     "execution_count": 29,
     "metadata": {},
     "output_type": "execute_result"
    },
    {
     "data": {
      "image/png": "[encoded data removed]",
      "text/plain": [
       "<Figure size 432x288 with 1 Axes>"
      ]
     },
     "metadata": {
      "needs_background": "light"
     },
     "output_type": "display_data"
    }
   ],
   "source": [
    "#A barplot of total international calls according to area code\n",
    "sns.barplot(x='area code',y='total intl calls',data=data,estimator=np.mean)"
   ]
  },
  {
   "cell_type": "markdown",
   "id": "554cde8d",
   "metadata": {},
   "source": [
    "Area 510 has the least amount of total international calls while area 415 has the highest."
   ]
  },
  {
   "cell_type": "code",
   "execution_count": 93,
   "id": "652f70b7",
   "metadata": {},
   "outputs": [
    {
     "data": {
      "text/plain": [
       "<AxesSubplot:xlabel='area code', ylabel='customer service calls'>"
      ]
     },
     "execution_count": 93,
     "metadata": {},
     "output_type": "execute_result"
    },
    {
     "data": {
      "image/png": "[encoded data removed]",
      "text/plain": [
       "<Figure size 432x288 with 1 Axes>"
      ]
     },
     "metadata": {
      "needs_background": "light"
     },
     "output_type": "display_data"
    }
   ],
   "source": [
    "sns.barplot(x='area code',y='customer service calls',data=data)"
   ]
  },
  {
   "cell_type": "code",
   "execution_count": 30,
   "id": "cf2477e9",
   "metadata": {},
   "outputs": [
    {
     "data": {
      "text/plain": [
       "<AxesSubplot:>"
      ]
     },
     "execution_count": 30,
     "metadata": {},
     "output_type": "execute_result"
    },
    {
     "data": {
      "image/png": "[encoded data removed]",
      "text/plain": [
       "<Figure size 720x576 with 1 Axes>"
      ]
     },
     "metadata": {
      "needs_background": "light"
     },
     "output_type": "display_data"
    }
   ],
   "source": [
    "#Top 10 states with the most customers\n",
    "fig,ax=plt.subplots(figsize=(10,8))\n",
    "state_name=list(dict(data['state'].value_counts().head(10)).keys())\n",
    "number=list(dict(data['state'].value_counts().head(10)).values())\n",
    "sns.barplot(x=state_name,y=number)"
   ]
  },
  {
   "cell_type": "markdown",
   "id": "5ecada89",
   "metadata": {},
   "source": [
    "The state of West Virginia has the highest number of customers."
   ]
  },
  {
   "cell_type": "code",
   "execution_count": 90,
   "id": "93e85bfd",
   "metadata": {},
   "outputs": [
    {
     "data": {
      "text/plain": [
       "<AxesSubplot:>"
      ]
     },
     "execution_count": 90,
     "metadata": {},
     "output_type": "execute_result"
    },
    {
     "data": {
      "image/png": "[encoded data removed]",
      "text/plain": [
       "<Figure size 720x576 with 1 Axes>"
      ]
     },
     "metadata": {
      "needs_background": "light"
     },
     "output_type": "display_data"
    }
   ],
   "source": [
    "#Top 10 states with the Least customers\n",
    "fig,ax=plt.subplots(figsize=(10,8))\n",
    "state_name=list(dict(data['state'].value_counts().head(10)).keys())\n",
    "number=list(dict(data['state'].value_counts().tail(10)).values())\n",
    "sns.barplot(x=state_name,y=number)"
   ]
  },
  {
   "cell_type": "markdown",
   "id": "c1cfc9bb",
   "metadata": {},
   "source": [
    "The state of virginia has the lowest number of customers."
   ]
  },
  {
   "cell_type": "code",
   "execution_count": 31,
   "id": "283befbe",
   "metadata": {},
   "outputs": [
    {
     "data": {
      "text/plain": [
       "Text(0, 0.5, 'total day charge')"
      ]
     },
     "execution_count": 31,
     "metadata": {},
     "output_type": "execute_result"
    },
    {
     "data": {
      "image/png": "[encoded data removed]",
      "text/plain": [
       "<Figure size 720x504 with 1 Axes>"
      ]
     },
     "metadata": {
      "needs_background": "light"
     },
     "output_type": "display_data"
    }
   ],
   "source": [
    "#The relationship between \n",
    "fig,ax=plt.subplots(figsize=(10,7))\n",
    "plt.scatter(x='total day minutes',y='total day charge',data=data)\n",
    "plt.xlabel(\"total day minutes\")\n",
    "plt.ylabel(\"total day charge\")"
   ]
  },
  {
   "cell_type": "markdown",
   "id": "cf29cc61",
   "metadata": {},
   "source": [
    "Their is a perfect correlation between total day charge and total day minutes"
   ]
  },
  {
   "cell_type": "code",
   "execution_count": 32,
   "id": "ecd00fee",
   "metadata": {},
   "outputs": [
    {
     "data": {
      "text/plain": [
       "Text(0, 0.5, 'total day charge')"
      ]
     },
     "execution_count": 32,
     "metadata": {},
     "output_type": "execute_result"
    },
    {
     "data": {
      "image/png": "[encoded data removed]",
      "text/plain": [
       "<Figure size 720x504 with 1 Axes>"
      ]
     },
     "metadata": {
      "needs_background": "light"
     },
     "output_type": "display_data"
    }
   ],
   "source": [
    "#The relationship between \n",
    "fig,ax=plt.subplots(figsize=(10,7))\n",
    "plt.scatter(x='total day calls',y='total day charge',data=data)\n",
    "plt.xlabel(\"total day calls\")\n",
    "plt.ylabel(\"total day charge\")"
   ]
  },
  {
   "cell_type": "markdown",
   "id": "d09f7131",
   "metadata": {},
   "source": [
    "We can conclude that their is no relationship between total day calls and total day charge"
   ]
  },
  {
   "cell_type": "code",
   "execution_count": 33,
   "id": "459b5147",
   "metadata": {},
   "outputs": [
    {
     "data": {
      "text/plain": [
       "<AxesSubplot:xlabel='churn', ylabel='customer service calls'>"
      ]
     },
     "execution_count": 33,
     "metadata": {},
     "output_type": "execute_result"
    },
    {
     "data": {
      "image/png": "[encoded data removed]",
      "text/plain": [
       "<Figure size 720x504 with 1 Axes>"
      ]
     },
     "metadata": {
      "needs_background": "light"
     },
     "output_type": "display_data"
    }
   ],
   "source": [
    "#The barplot of number of customer service calls vs churn levels\n",
    "fig,ax=plt.subplots(figsize=(10,7))\n",
    "sns.barplot(x='churn',y='customer service calls',data=data,estimator=np.mean)"
   ]
  },
  {
   "cell_type": "markdown",
   "id": "3bcc1040",
   "metadata": {},
   "source": [
    "The more the customer service calls the higher the churn level"
   ]
  },
  {
   "cell_type": "code",
   "execution_count": 34,
   "id": "578fab88",
   "metadata": {},
   "outputs": [
    {
     "data": {
      "text/plain": [
       "<AxesSubplot:>"
      ]
     },
     "execution_count": 34,
     "metadata": {},
     "output_type": "execute_result"
    },
    {
     "data": {
      "image/png": "[encoded data removed]",
      "text/plain": [
       "<Figure size 1080x720 with 2 Axes>"
      ]
     },
     "metadata": {
      "needs_background": "light"
     },
     "output_type": "display_data"
    }
   ],
   "source": [
    "#Correlation heatmap of the variables\n",
    "fig,ax=plt.subplots(figsize=(15,10))\n",
    "sns.heatmap(data.corr(),annot=True,cmap='coolwarm')"
   ]
  },
  {
   "cell_type": "markdown",
   "id": "0372ae96",
   "metadata": {},
   "source": [
    "# DATA PREPARATION FOR MODELLING"
   ]
  },
  {
   "cell_type": "markdown",
   "id": "fa621601",
   "metadata": {},
   "source": [
    "In this section we will prepare our data to fit Machine Learning models"
   ]
  },
  {
   "cell_type": "markdown",
   "id": "3add0189",
   "metadata": {},
   "source": [
    "# OneHotEncoding"
   ]
  },
  {
   "cell_type": "code",
   "execution_count": 35,
   "id": "a1234b32",
   "metadata": {},
   "outputs": [
    {
     "data": {
      "text/html": [
       "<div>\n",
       "<style scoped>\n",
       "    .dataframe tbody tr th:only-of-type {\n",
       "        vertical-align: middle;\n",
       "    }\n",
       "\n",
       "    .dataframe tbody tr th {\n",
       "        vertical-align: top;\n",
       "    }\n",
       "\n",
       "    .dataframe thead th {\n",
       "        text-align: right;\n",
       "    }\n",
       "</style>\n",
       "<table border=\"1\" class=\"dataframe\">\n",
       "  <thead>\n",
       "    <tr style=\"text-align: right;\">\n",
       "      <th></th>\n",
       "      <th>account length</th>\n",
       "      <th>area code</th>\n",
       "      <th>phone number</th>\n",
       "      <th>number vmail messages</th>\n",
       "      <th>total day minutes</th>\n",
       "      <th>total day calls</th>\n",
       "      <th>total day charge</th>\n",
       "      <th>total eve minutes</th>\n",
       "      <th>total eve calls</th>\n",
       "      <th>total eve charge</th>\n",
       "      <th>...</th>\n",
       "      <th>state_VT</th>\n",
       "      <th>state_WA</th>\n",
       "      <th>state_WI</th>\n",
       "      <th>state_WV</th>\n",
       "      <th>state_WY</th>\n",
       "      <th>international plan_no</th>\n",
       "      <th>international plan_yes</th>\n",
       "      <th>voice mail plan_no</th>\n",
       "      <th>voice mail plan_yes</th>\n",
       "      <th>Churn</th>\n",
       "    </tr>\n",
       "  </thead>\n",
       "  <tbody>\n",
       "    <tr>\n",
       "      <th>0</th>\n",
       "      <td>128.0</td>\n",
       "      <td>415.0</td>\n",
       "      <td>382-4657</td>\n",
       "      <td>25.0</td>\n",
       "      <td>265.1</td>\n",
       "      <td>110.0</td>\n",
       "      <td>45.07</td>\n",
       "      <td>197.4</td>\n",
       "      <td>99.0</td>\n",
       "      <td>16.78</td>\n",
       "      <td>...</td>\n",
       "      <td>0.0</td>\n",
       "      <td>0.0</td>\n",
       "      <td>0.0</td>\n",
       "      <td>0.0</td>\n",
       "      <td>0.0</td>\n",
       "      <td>1.0</td>\n",
       "      <td>0.0</td>\n",
       "      <td>0.0</td>\n",
       "      <td>1.0</td>\n",
       "      <td>1.0</td>\n",
       "    </tr>\n",
       "    <tr>\n",
       "      <th>1</th>\n",
       "      <td>107.0</td>\n",
       "      <td>415.0</td>\n",
       "      <td>371-7191</td>\n",
       "      <td>26.0</td>\n",
       "      <td>161.6</td>\n",
       "      <td>123.0</td>\n",
       "      <td>27.47</td>\n",
       "      <td>195.5</td>\n",
       "      <td>103.0</td>\n",
       "      <td>16.62</td>\n",
       "      <td>...</td>\n",
       "      <td>0.0</td>\n",
       "      <td>0.0</td>\n",
       "      <td>0.0</td>\n",
       "      <td>0.0</td>\n",
       "      <td>0.0</td>\n",
       "      <td>1.0</td>\n",
       "      <td>0.0</td>\n",
       "      <td>0.0</td>\n",
       "      <td>1.0</td>\n",
       "      <td>1.0</td>\n",
       "    </tr>\n",
       "    <tr>\n",
       "      <th>2</th>\n",
       "      <td>137.0</td>\n",
       "      <td>415.0</td>\n",
       "      <td>358-1921</td>\n",
       "      <td>0.0</td>\n",
       "      <td>243.4</td>\n",
       "      <td>114.0</td>\n",
       "      <td>41.38</td>\n",
       "      <td>121.2</td>\n",
       "      <td>110.0</td>\n",
       "      <td>10.30</td>\n",
       "      <td>...</td>\n",
       "      <td>0.0</td>\n",
       "      <td>0.0</td>\n",
       "      <td>0.0</td>\n",
       "      <td>0.0</td>\n",
       "      <td>0.0</td>\n",
       "      <td>1.0</td>\n",
       "      <td>0.0</td>\n",
       "      <td>1.0</td>\n",
       "      <td>0.0</td>\n",
       "      <td>1.0</td>\n",
       "    </tr>\n",
       "    <tr>\n",
       "      <th>3</th>\n",
       "      <td>NaN</td>\n",
       "      <td>NaN</td>\n",
       "      <td>NaN</td>\n",
       "      <td>NaN</td>\n",
       "      <td>NaN</td>\n",
       "      <td>NaN</td>\n",
       "      <td>NaN</td>\n",
       "      <td>NaN</td>\n",
       "      <td>NaN</td>\n",
       "      <td>NaN</td>\n",
       "      <td>...</td>\n",
       "      <td>0.0</td>\n",
       "      <td>0.0</td>\n",
       "      <td>0.0</td>\n",
       "      <td>0.0</td>\n",
       "      <td>0.0</td>\n",
       "      <td>0.0</td>\n",
       "      <td>1.0</td>\n",
       "      <td>1.0</td>\n",
       "      <td>0.0</td>\n",
       "      <td>1.0</td>\n",
       "    </tr>\n",
       "    <tr>\n",
       "      <th>4</th>\n",
       "      <td>75.0</td>\n",
       "      <td>415.0</td>\n",
       "      <td>330-6626</td>\n",
       "      <td>0.0</td>\n",
       "      <td>166.7</td>\n",
       "      <td>113.0</td>\n",
       "      <td>28.34</td>\n",
       "      <td>148.3</td>\n",
       "      <td>122.0</td>\n",
       "      <td>12.61</td>\n",
       "      <td>...</td>\n",
       "      <td>0.0</td>\n",
       "      <td>0.0</td>\n",
       "      <td>0.0</td>\n",
       "      <td>0.0</td>\n",
       "      <td>0.0</td>\n",
       "      <td>0.0</td>\n",
       "      <td>1.0</td>\n",
       "      <td>1.0</td>\n",
       "      <td>0.0</td>\n",
       "      <td>1.0</td>\n",
       "    </tr>\n",
       "  </tbody>\n",
       "</table>\n",
       "<p>5 rows × 73 columns</p>\n",
       "</div>"
      ],
      "text/plain": [
       "   account length  area code phone number  number vmail messages  \\\n",
       "0           128.0      415.0     382-4657                   25.0   \n",
       "1           107.0      415.0     371-7191                   26.0   \n",
       "2           137.0      415.0     358-1921                    0.0   \n",
       "3             NaN        NaN          NaN                    NaN   \n",
       "4            75.0      415.0     330-6626                    0.0   \n",
       "\n",
       "   total day minutes  total day calls  total day charge  total eve minutes  \\\n",
       "0              265.1            110.0             45.07              197.4   \n",
       "1              161.6            123.0             27.47              195.5   \n",
       "2              243.4            114.0             41.38              121.2   \n",
       "3                NaN              NaN               NaN                NaN   \n",
       "4              166.7            113.0             28.34              148.3   \n",
       "\n",
       "   total eve calls  total eve charge  ...  state_VT  state_WA  state_WI  \\\n",
       "0             99.0             16.78  ...       0.0       0.0       0.0   \n",
       "1            103.0             16.62  ...       0.0       0.0       0.0   \n",
       "2            110.0             10.30  ...       0.0       0.0       0.0   \n",
       "3              NaN               NaN  ...       0.0       0.0       0.0   \n",
       "4            122.0             12.61  ...       0.0       0.0       0.0   \n",
       "\n",
       "   state_WV  state_WY  international plan_no  international plan_yes  \\\n",
       "0       0.0       0.0                    1.0                     0.0   \n",
       "1       0.0       0.0                    1.0                     0.0   \n",
       "2       0.0       0.0                    1.0                     0.0   \n",
       "3       0.0       0.0                    0.0                     1.0   \n",
       "4       0.0       0.0                    0.0                     1.0   \n",
       "\n",
       "   voice mail plan_no  voice mail plan_yes  Churn  \n",
       "0                 0.0                  1.0    1.0  \n",
       "1                 0.0                  1.0    1.0  \n",
       "2                 1.0                  0.0    1.0  \n",
       "3                 1.0                  0.0    1.0  \n",
       "4                 1.0                  0.0    1.0  \n",
       "\n",
       "[5 rows x 73 columns]"
      ]
     },
     "execution_count": 35,
     "metadata": {},
     "output_type": "execute_result"
    }
   ],
   "source": [
    "from sklearn.preprocessing import OneHotEncoder\n",
    "encoder=OneHotEncoder(sparse=False)\n",
    "encoded_columns=encoder.fit_transform(data[['state','international plan','voice mail plan','churn']])\n",
    "encoded_df = pd.DataFrame(encoded_columns, columns=encoder.get_feature_names_out(['state', 'international plan', 'voice mail plan', 'churn']))\n",
    "final_df = pd.concat([data.drop(['state','international plan', 'voice mail plan', 'churn'], axis=1), encoded_df], axis=1)\n",
    "\n",
    "data_encoded=final_df.drop('churn_True',axis=1)\n",
    "data_encoded=data_encoded.rename(columns={'churn_False':'Churn'})\n",
    "data_encoded.head(5)"
   ]
  },
  {
   "cell_type": "code",
   "execution_count": 36,
   "id": "a287990c",
   "metadata": {},
   "outputs": [],
   "source": [
    "data_encoded=data_encoded.dropna()\n"
   ]
  },
  {
   "cell_type": "markdown",
   "id": "86b1614f",
   "metadata": {},
   "source": [
    "Here we are going to be converting our categorical columns into numerical columns"
   ]
  },
  {
   "cell_type": "markdown",
   "id": "783de3cf",
   "metadata": {},
   "source": [
    "# Feature selection"
   ]
  },
  {
   "cell_type": "markdown",
   "id": "dfdead89",
   "metadata": {},
   "source": [
    "We are going to be dropping some columns which are not important for the prediction we want to make."
   ]
  },
  {
   "cell_type": "code",
   "execution_count": 37,
   "id": "eac30187",
   "metadata": {},
   "outputs": [
    {
     "data": {
      "text/html": [
       "<div>\n",
       "<style scoped>\n",
       "    .dataframe tbody tr th:only-of-type {\n",
       "        vertical-align: middle;\n",
       "    }\n",
       "\n",
       "    .dataframe tbody tr th {\n",
       "        vertical-align: top;\n",
       "    }\n",
       "\n",
       "    .dataframe thead th {\n",
       "        text-align: right;\n",
       "    }\n",
       "</style>\n",
       "<table border=\"1\" class=\"dataframe\">\n",
       "  <thead>\n",
       "    <tr style=\"text-align: right;\">\n",
       "      <th></th>\n",
       "      <th></th>\n",
       "      <th>0</th>\n",
       "    </tr>\n",
       "  </thead>\n",
       "  <tbody>\n",
       "    <tr>\n",
       "      <th>total day charge</th>\n",
       "      <th>total day minutes</th>\n",
       "      <td>1.000000</td>\n",
       "    </tr>\n",
       "    <tr>\n",
       "      <th>total day minutes</th>\n",
       "      <th>total day charge</th>\n",
       "      <td>1.000000</td>\n",
       "    </tr>\n",
       "    <tr>\n",
       "      <th>total eve minutes</th>\n",
       "      <th>total eve charge</th>\n",
       "      <td>1.000000</td>\n",
       "    </tr>\n",
       "    <tr>\n",
       "      <th>total eve charge</th>\n",
       "      <th>total eve minutes</th>\n",
       "      <td>1.000000</td>\n",
       "    </tr>\n",
       "    <tr>\n",
       "      <th>total night minutes</th>\n",
       "      <th>total night charge</th>\n",
       "      <td>0.999999</td>\n",
       "    </tr>\n",
       "    <tr>\n",
       "      <th>total night charge</th>\n",
       "      <th>total night minutes</th>\n",
       "      <td>0.999999</td>\n",
       "    </tr>\n",
       "    <tr>\n",
       "      <th>total intl charge</th>\n",
       "      <th>total intl minutes</th>\n",
       "      <td>0.999993</td>\n",
       "    </tr>\n",
       "    <tr>\n",
       "      <th>total intl minutes</th>\n",
       "      <th>total intl charge</th>\n",
       "      <td>0.999993</td>\n",
       "    </tr>\n",
       "    <tr>\n",
       "      <th>customer service calls</th>\n",
       "      <th>churn</th>\n",
       "      <td>0.208750</td>\n",
       "    </tr>\n",
       "    <tr>\n",
       "      <th>churn</th>\n",
       "      <th>customer service calls</th>\n",
       "      <td>0.208750</td>\n",
       "    </tr>\n",
       "  </tbody>\n",
       "</table>\n",
       "</div>"
      ],
      "text/plain": [
       "                                                      0\n",
       "total day charge       total day minutes       1.000000\n",
       "total day minutes      total day charge        1.000000\n",
       "total eve minutes      total eve charge        1.000000\n",
       "total eve charge       total eve minutes       1.000000\n",
       "total night minutes    total night charge      0.999999\n",
       "total night charge     total night minutes     0.999999\n",
       "total intl charge      total intl minutes      0.999993\n",
       "total intl minutes     total intl charge       0.999993\n",
       "customer service calls churn                   0.208750\n",
       "churn                  customer service calls  0.208750"
      ]
     },
     "execution_count": 37,
     "metadata": {},
     "output_type": "execute_result"
    }
   ],
   "source": [
    "#Find the features with the highest correlations\n",
    "correlation_matrix = df.corr()\n",
    "sorted_correlations = correlation_matrix.abs().unstack().sort_values(ascending=False)\n",
    "sorted_correlations = sorted_correlations[sorted_correlations != 1.0]\n",
    "#print(sorted_correlations)\n",
    "ranking=pd.DataFrame(sorted_correlations)\n",
    "ranking.head(10)"
   ]
  },
  {
   "cell_type": "code",
   "execution_count": 38,
   "id": "8fd85fd3",
   "metadata": {
    "scrolled": false
   },
   "outputs": [
    {
     "data": {
      "text/html": [
       "<div>\n",
       "<style scoped>\n",
       "    .dataframe tbody tr th:only-of-type {\n",
       "        vertical-align: middle;\n",
       "    }\n",
       "\n",
       "    .dataframe tbody tr th {\n",
       "        vertical-align: top;\n",
       "    }\n",
       "\n",
       "    .dataframe thead th {\n",
       "        text-align: right;\n",
       "    }\n",
       "</style>\n",
       "<table border=\"1\" class=\"dataframe\">\n",
       "  <thead>\n",
       "    <tr style=\"text-align: right;\">\n",
       "      <th></th>\n",
       "      <th>account length</th>\n",
       "      <th>area code</th>\n",
       "      <th>number vmail messages</th>\n",
       "      <th>total day minutes</th>\n",
       "      <th>total day calls</th>\n",
       "      <th>total eve calls</th>\n",
       "      <th>total eve charge</th>\n",
       "      <th>total night calls</th>\n",
       "      <th>total night charge</th>\n",
       "      <th>total intl minutes</th>\n",
       "      <th>...</th>\n",
       "      <th>state_VT</th>\n",
       "      <th>state_WA</th>\n",
       "      <th>state_WI</th>\n",
       "      <th>state_WV</th>\n",
       "      <th>state_WY</th>\n",
       "      <th>international plan_no</th>\n",
       "      <th>international plan_yes</th>\n",
       "      <th>voice mail plan_no</th>\n",
       "      <th>voice mail plan_yes</th>\n",
       "      <th>Churn</th>\n",
       "    </tr>\n",
       "  </thead>\n",
       "  <tbody>\n",
       "    <tr>\n",
       "      <th>0</th>\n",
       "      <td>128.0</td>\n",
       "      <td>415.0</td>\n",
       "      <td>25.0</td>\n",
       "      <td>265.1</td>\n",
       "      <td>110.0</td>\n",
       "      <td>99.0</td>\n",
       "      <td>16.78</td>\n",
       "      <td>91.0</td>\n",
       "      <td>11.01</td>\n",
       "      <td>10.0</td>\n",
       "      <td>...</td>\n",
       "      <td>0.0</td>\n",
       "      <td>0.0</td>\n",
       "      <td>0.0</td>\n",
       "      <td>0.0</td>\n",
       "      <td>0.0</td>\n",
       "      <td>1.0</td>\n",
       "      <td>0.0</td>\n",
       "      <td>0.0</td>\n",
       "      <td>1.0</td>\n",
       "      <td>1.0</td>\n",
       "    </tr>\n",
       "    <tr>\n",
       "      <th>1</th>\n",
       "      <td>107.0</td>\n",
       "      <td>415.0</td>\n",
       "      <td>26.0</td>\n",
       "      <td>161.6</td>\n",
       "      <td>123.0</td>\n",
       "      <td>103.0</td>\n",
       "      <td>16.62</td>\n",
       "      <td>103.0</td>\n",
       "      <td>11.45</td>\n",
       "      <td>13.7</td>\n",
       "      <td>...</td>\n",
       "      <td>0.0</td>\n",
       "      <td>0.0</td>\n",
       "      <td>0.0</td>\n",
       "      <td>0.0</td>\n",
       "      <td>0.0</td>\n",
       "      <td>1.0</td>\n",
       "      <td>0.0</td>\n",
       "      <td>0.0</td>\n",
       "      <td>1.0</td>\n",
       "      <td>1.0</td>\n",
       "    </tr>\n",
       "    <tr>\n",
       "      <th>2</th>\n",
       "      <td>137.0</td>\n",
       "      <td>415.0</td>\n",
       "      <td>0.0</td>\n",
       "      <td>243.4</td>\n",
       "      <td>114.0</td>\n",
       "      <td>110.0</td>\n",
       "      <td>10.30</td>\n",
       "      <td>104.0</td>\n",
       "      <td>7.32</td>\n",
       "      <td>12.2</td>\n",
       "      <td>...</td>\n",
       "      <td>0.0</td>\n",
       "      <td>0.0</td>\n",
       "      <td>0.0</td>\n",
       "      <td>0.0</td>\n",
       "      <td>0.0</td>\n",
       "      <td>1.0</td>\n",
       "      <td>0.0</td>\n",
       "      <td>1.0</td>\n",
       "      <td>0.0</td>\n",
       "      <td>1.0</td>\n",
       "    </tr>\n",
       "    <tr>\n",
       "      <th>4</th>\n",
       "      <td>75.0</td>\n",
       "      <td>415.0</td>\n",
       "      <td>0.0</td>\n",
       "      <td>166.7</td>\n",
       "      <td>113.0</td>\n",
       "      <td>122.0</td>\n",
       "      <td>12.61</td>\n",
       "      <td>121.0</td>\n",
       "      <td>8.41</td>\n",
       "      <td>10.1</td>\n",
       "      <td>...</td>\n",
       "      <td>0.0</td>\n",
       "      <td>0.0</td>\n",
       "      <td>0.0</td>\n",
       "      <td>0.0</td>\n",
       "      <td>0.0</td>\n",
       "      <td>0.0</td>\n",
       "      <td>1.0</td>\n",
       "      <td>1.0</td>\n",
       "      <td>0.0</td>\n",
       "      <td>1.0</td>\n",
       "    </tr>\n",
       "    <tr>\n",
       "      <th>5</th>\n",
       "      <td>118.0</td>\n",
       "      <td>510.0</td>\n",
       "      <td>0.0</td>\n",
       "      <td>223.4</td>\n",
       "      <td>98.0</td>\n",
       "      <td>101.0</td>\n",
       "      <td>18.75</td>\n",
       "      <td>118.0</td>\n",
       "      <td>9.18</td>\n",
       "      <td>6.3</td>\n",
       "      <td>...</td>\n",
       "      <td>0.0</td>\n",
       "      <td>0.0</td>\n",
       "      <td>0.0</td>\n",
       "      <td>0.0</td>\n",
       "      <td>0.0</td>\n",
       "      <td>1.0</td>\n",
       "      <td>0.0</td>\n",
       "      <td>1.0</td>\n",
       "      <td>0.0</td>\n",
       "      <td>0.0</td>\n",
       "    </tr>\n",
       "  </tbody>\n",
       "</table>\n",
       "<p>5 rows × 68 columns</p>\n",
       "</div>"
      ],
      "text/plain": [
       "   account length  area code  number vmail messages  total day minutes  \\\n",
       "0           128.0      415.0                   25.0              265.1   \n",
       "1           107.0      415.0                   26.0              161.6   \n",
       "2           137.0      415.0                    0.0              243.4   \n",
       "4            75.0      415.0                    0.0              166.7   \n",
       "5           118.0      510.0                    0.0              223.4   \n",
       "\n",
       "   total day calls  total eve calls  total eve charge  total night calls  \\\n",
       "0            110.0             99.0             16.78               91.0   \n",
       "1            123.0            103.0             16.62              103.0   \n",
       "2            114.0            110.0             10.30              104.0   \n",
       "4            113.0            122.0             12.61              121.0   \n",
       "5             98.0            101.0             18.75              118.0   \n",
       "\n",
       "   total night charge  total intl minutes  ...  state_VT  state_WA  state_WI  \\\n",
       "0               11.01                10.0  ...       0.0       0.0       0.0   \n",
       "1               11.45                13.7  ...       0.0       0.0       0.0   \n",
       "2                7.32                12.2  ...       0.0       0.0       0.0   \n",
       "4                8.41                10.1  ...       0.0       0.0       0.0   \n",
       "5                9.18                 6.3  ...       0.0       0.0       0.0   \n",
       "\n",
       "   state_WV  state_WY  international plan_no  international plan_yes  \\\n",
       "0       0.0       0.0                    1.0                     0.0   \n",
       "1       0.0       0.0                    1.0                     0.0   \n",
       "2       0.0       0.0                    1.0                     0.0   \n",
       "4       0.0       0.0                    0.0                     1.0   \n",
       "5       0.0       0.0                    1.0                     0.0   \n",
       "\n",
       "   voice mail plan_no  voice mail plan_yes  Churn  \n",
       "0                 0.0                  1.0    1.0  \n",
       "1                 0.0                  1.0    1.0  \n",
       "2                 1.0                  0.0    1.0  \n",
       "4                 1.0                  0.0    1.0  \n",
       "5                 1.0                  0.0    0.0  \n",
       "\n",
       "[5 rows x 68 columns]"
      ]
     },
     "execution_count": 38,
     "metadata": {},
     "output_type": "execute_result"
    }
   ],
   "source": [
    "#We will drop features with the highest correlation to avoid multicollinearity plus other features that are not useful\n",
    "drop_columns=['total day charge','total eve minutes','total night minutes','total intl charge','phone number']\n",
    "data_features=data_encoded.drop(drop_columns,axis=1) \n",
    "data_features.head()"
   ]
  },
  {
   "cell_type": "markdown",
   "id": "58d00634",
   "metadata": {},
   "source": [
    "We have dropped highly correlated features and the phone number feature"
   ]
  },
  {
   "cell_type": "markdown",
   "id": "001de906",
   "metadata": {},
   "source": [
    "# Class imbalance"
   ]
  },
  {
   "cell_type": "code",
   "execution_count": 39,
   "id": "57c6f0ff",
   "metadata": {},
   "outputs": [
    {
     "data": {
      "text/plain": [
       "1.0    768\n",
       "0.0     94\n",
       "Name: Churn, dtype: int64"
      ]
     },
     "execution_count": 39,
     "metadata": {},
     "output_type": "execute_result"
    }
   ],
   "source": [
    "data_features['Churn'].value_counts()"
   ]
  },
  {
   "cell_type": "markdown",
   "id": "2291022d",
   "metadata": {},
   "source": [
    "From the above snipet we can see that their is huge class imbalance"
   ]
  },
  {
   "cell_type": "markdown",
   "id": "0420ad6c",
   "metadata": {},
   "source": [
    "# Scaling"
   ]
  },
  {
   "cell_type": "markdown",
   "id": "9c69ee39",
   "metadata": {},
   "source": [
    "We will do scaling to ensure our data is in the same scale"
   ]
  },
  {
   "cell_type": "code",
   "execution_count": 41,
   "id": "4d40c27a",
   "metadata": {},
   "outputs": [],
   "source": [
    "X=data_features.drop(['Churn'],axis=1)\n",
    "y=data_features['Churn']"
   ]
  },
  {
   "cell_type": "code",
   "execution_count": 42,
   "id": "b3ffb339",
   "metadata": {},
   "outputs": [
    {
     "data": {
      "text/html": [
       "<div>\n",
       "<style scoped>\n",
       "    .dataframe tbody tr th:only-of-type {\n",
       "        vertical-align: middle;\n",
       "    }\n",
       "\n",
       "    .dataframe tbody tr th {\n",
       "        vertical-align: top;\n",
       "    }\n",
       "\n",
       "    .dataframe thead th {\n",
       "        text-align: right;\n",
       "    }\n",
       "</style>\n",
       "<table border=\"1\" class=\"dataframe\">\n",
       "  <thead>\n",
       "    <tr style=\"text-align: right;\">\n",
       "      <th></th>\n",
       "      <th>0</th>\n",
       "      <th>1</th>\n",
       "      <th>2</th>\n",
       "      <th>3</th>\n",
       "      <th>4</th>\n",
       "      <th>5</th>\n",
       "      <th>6</th>\n",
       "      <th>7</th>\n",
       "      <th>8</th>\n",
       "      <th>9</th>\n",
       "      <th>...</th>\n",
       "      <th>57</th>\n",
       "      <th>58</th>\n",
       "      <th>59</th>\n",
       "      <th>60</th>\n",
       "      <th>61</th>\n",
       "      <th>62</th>\n",
       "      <th>63</th>\n",
       "      <th>64</th>\n",
       "      <th>65</th>\n",
       "      <th>66</th>\n",
       "    </tr>\n",
       "  </thead>\n",
       "  <tbody>\n",
       "    <tr>\n",
       "      <th>0</th>\n",
       "      <td>-0.390472</td>\n",
       "      <td>-0.696879</td>\n",
       "      <td>-0.564514</td>\n",
       "      <td>1.013217</td>\n",
       "      <td>-0.655924</td>\n",
       "      <td>0.351750</td>\n",
       "      <td>0.555388</td>\n",
       "      <td>-0.515155</td>\n",
       "      <td>1.258781</td>\n",
       "      <td>1.219864</td>\n",
       "      <td>...</td>\n",
       "      <td>-0.148438</td>\n",
       "      <td>-0.154172</td>\n",
       "      <td>-0.148438</td>\n",
       "      <td>-0.154172</td>\n",
       "      <td>-0.224772</td>\n",
       "      <td>-0.165098</td>\n",
       "      <td>-3.094987</td>\n",
       "      <td>3.094987</td>\n",
       "      <td>-1.678230</td>\n",
       "      <td>1.678230</td>\n",
       "    </tr>\n",
       "    <tr>\n",
       "      <th>1</th>\n",
       "      <td>1.455099</td>\n",
       "      <td>1.696322</td>\n",
       "      <td>-0.564514</td>\n",
       "      <td>-1.227484</td>\n",
       "      <td>-0.029287</td>\n",
       "      <td>-1.598908</td>\n",
       "      <td>0.929568</td>\n",
       "      <td>-0.048030</td>\n",
       "      <td>1.946977</td>\n",
       "      <td>-0.050564</td>\n",
       "      <td>...</td>\n",
       "      <td>-0.148438</td>\n",
       "      <td>-0.154172</td>\n",
       "      <td>-0.148438</td>\n",
       "      <td>-0.154172</td>\n",
       "      <td>-0.224772</td>\n",
       "      <td>-0.165098</td>\n",
       "      <td>0.323103</td>\n",
       "      <td>-0.323103</td>\n",
       "      <td>0.595866</td>\n",
       "      <td>-0.595866</td>\n",
       "    </tr>\n",
       "    <tr>\n",
       "      <th>2</th>\n",
       "      <td>0.042084</td>\n",
       "      <td>-0.532640</td>\n",
       "      <td>1.855603</td>\n",
       "      <td>-1.336950</td>\n",
       "      <td>0.939153</td>\n",
       "      <td>-0.049856</td>\n",
       "      <td>-0.335787</td>\n",
       "      <td>-1.507798</td>\n",
       "      <td>0.937967</td>\n",
       "      <td>-0.095937</td>\n",
       "      <td>...</td>\n",
       "      <td>-0.148438</td>\n",
       "      <td>-0.154172</td>\n",
       "      <td>-0.148438</td>\n",
       "      <td>-0.154172</td>\n",
       "      <td>4.448944</td>\n",
       "      <td>-0.165098</td>\n",
       "      <td>-3.094987</td>\n",
       "      <td>3.094987</td>\n",
       "      <td>-1.678230</td>\n",
       "      <td>1.678230</td>\n",
       "    </tr>\n",
       "    <tr>\n",
       "      <th>3</th>\n",
       "      <td>0.243943</td>\n",
       "      <td>-0.532640</td>\n",
       "      <td>-0.564514</td>\n",
       "      <td>-1.741304</td>\n",
       "      <td>1.679724</td>\n",
       "      <td>0.122261</td>\n",
       "      <td>1.023827</td>\n",
       "      <td>-0.690327</td>\n",
       "      <td>-0.728193</td>\n",
       "      <td>-1.094131</td>\n",
       "      <td>...</td>\n",
       "      <td>-0.148438</td>\n",
       "      <td>-0.154172</td>\n",
       "      <td>-0.148438</td>\n",
       "      <td>-0.154172</td>\n",
       "      <td>-0.224772</td>\n",
       "      <td>-0.165098</td>\n",
       "      <td>0.323103</td>\n",
       "      <td>-0.323103</td>\n",
       "      <td>-1.678230</td>\n",
       "      <td>1.678230</td>\n",
       "    </tr>\n",
       "    <tr>\n",
       "      <th>4</th>\n",
       "      <td>-1.226746</td>\n",
       "      <td>1.696322</td>\n",
       "      <td>-0.564514</td>\n",
       "      <td>-0.706962</td>\n",
       "      <td>0.027680</td>\n",
       "      <td>0.523867</td>\n",
       "      <td>0.001260</td>\n",
       "      <td>0.010361</td>\n",
       "      <td>0.705119</td>\n",
       "      <td>0.720767</td>\n",
       "      <td>...</td>\n",
       "      <td>-0.148438</td>\n",
       "      <td>-0.154172</td>\n",
       "      <td>-0.148438</td>\n",
       "      <td>-0.154172</td>\n",
       "      <td>-0.224772</td>\n",
       "      <td>-0.165098</td>\n",
       "      <td>-3.094987</td>\n",
       "      <td>3.094987</td>\n",
       "      <td>0.595866</td>\n",
       "      <td>-0.595866</td>\n",
       "    </tr>\n",
       "    <tr>\n",
       "      <th>...</th>\n",
       "      <td>...</td>\n",
       "      <td>...</td>\n",
       "      <td>...</td>\n",
       "      <td>...</td>\n",
       "      <td>...</td>\n",
       "      <td>...</td>\n",
       "      <td>...</td>\n",
       "      <td>...</td>\n",
       "      <td>...</td>\n",
       "      <td>...</td>\n",
       "      <td>...</td>\n",
       "      <td>...</td>\n",
       "      <td>...</td>\n",
       "      <td>...</td>\n",
       "      <td>...</td>\n",
       "      <td>...</td>\n",
       "      <td>...</td>\n",
       "      <td>...</td>\n",
       "      <td>...</td>\n",
       "      <td>...</td>\n",
       "      <td>...</td>\n",
       "    </tr>\n",
       "    <tr>\n",
       "      <th>598</th>\n",
       "      <td>-0.246287</td>\n",
       "      <td>1.696322</td>\n",
       "      <td>-0.564514</td>\n",
       "      <td>0.494929</td>\n",
       "      <td>0.369483</td>\n",
       "      <td>0.695984</td>\n",
       "      <td>0.241192</td>\n",
       "      <td>1.645301</td>\n",
       "      <td>-0.138310</td>\n",
       "      <td>0.766140</td>\n",
       "      <td>...</td>\n",
       "      <td>-0.148438</td>\n",
       "      <td>-0.154172</td>\n",
       "      <td>-0.148438</td>\n",
       "      <td>-0.154172</td>\n",
       "      <td>-0.224772</td>\n",
       "      <td>-0.165098</td>\n",
       "      <td>-3.094987</td>\n",
       "      <td>3.094987</td>\n",
       "      <td>0.595866</td>\n",
       "      <td>-0.595866</td>\n",
       "    </tr>\n",
       "    <tr>\n",
       "      <th>599</th>\n",
       "      <td>-0.188612</td>\n",
       "      <td>-0.532640</td>\n",
       "      <td>-0.564514</td>\n",
       "      <td>-0.036763</td>\n",
       "      <td>-0.371089</td>\n",
       "      <td>-0.164600</td>\n",
       "      <td>-0.524305</td>\n",
       "      <td>1.762083</td>\n",
       "      <td>0.549886</td>\n",
       "      <td>0.539278</td>\n",
       "      <td>...</td>\n",
       "      <td>-0.148438</td>\n",
       "      <td>-0.154172</td>\n",
       "      <td>-0.148438</td>\n",
       "      <td>-0.154172</td>\n",
       "      <td>-0.224772</td>\n",
       "      <td>-0.165098</td>\n",
       "      <td>0.323103</td>\n",
       "      <td>-0.323103</td>\n",
       "      <td>0.595866</td>\n",
       "      <td>-0.595866</td>\n",
       "    </tr>\n",
       "    <tr>\n",
       "      <th>600</th>\n",
       "      <td>-1.169072</td>\n",
       "      <td>-0.696879</td>\n",
       "      <td>-0.564514</td>\n",
       "      <td>-1.634072</td>\n",
       "      <td>0.768252</td>\n",
       "      <td>1.384452</td>\n",
       "      <td>0.398290</td>\n",
       "      <td>-0.515155</td>\n",
       "      <td>0.373956</td>\n",
       "      <td>-0.186682</td>\n",
       "      <td>...</td>\n",
       "      <td>-0.148438</td>\n",
       "      <td>-0.154172</td>\n",
       "      <td>-0.148438</td>\n",
       "      <td>-0.154172</td>\n",
       "      <td>-0.224772</td>\n",
       "      <td>-0.165098</td>\n",
       "      <td>0.323103</td>\n",
       "      <td>-0.323103</td>\n",
       "      <td>0.595866</td>\n",
       "      <td>-0.595866</td>\n",
       "    </tr>\n",
       "    <tr>\n",
       "      <th>601</th>\n",
       "      <td>0.099758</td>\n",
       "      <td>1.696322</td>\n",
       "      <td>2.022508</td>\n",
       "      <td>-1.636306</td>\n",
       "      <td>1.394889</td>\n",
       "      <td>0.179633</td>\n",
       "      <td>-0.272948</td>\n",
       "      <td>-0.164811</td>\n",
       "      <td>-0.122787</td>\n",
       "      <td>-0.640406</td>\n",
       "      <td>...</td>\n",
       "      <td>-0.148438</td>\n",
       "      <td>-0.154172</td>\n",
       "      <td>-0.148438</td>\n",
       "      <td>-0.154172</td>\n",
       "      <td>-0.224772</td>\n",
       "      <td>-0.165098</td>\n",
       "      <td>0.323103</td>\n",
       "      <td>-0.323103</td>\n",
       "      <td>0.595866</td>\n",
       "      <td>-0.595866</td>\n",
       "    </tr>\n",
       "    <tr>\n",
       "      <th>602</th>\n",
       "      <td>-1.774650</td>\n",
       "      <td>-0.532640</td>\n",
       "      <td>-0.564514</td>\n",
       "      <td>0.300571</td>\n",
       "      <td>-0.314122</td>\n",
       "      <td>-0.336717</td>\n",
       "      <td>-0.327218</td>\n",
       "      <td>-0.631937</td>\n",
       "      <td>0.508491</td>\n",
       "      <td>0.221670</td>\n",
       "      <td>...</td>\n",
       "      <td>-0.148438</td>\n",
       "      <td>-0.154172</td>\n",
       "      <td>-0.148438</td>\n",
       "      <td>-0.154172</td>\n",
       "      <td>-0.224772</td>\n",
       "      <td>-0.165098</td>\n",
       "      <td>0.323103</td>\n",
       "      <td>-0.323103</td>\n",
       "      <td>0.595866</td>\n",
       "      <td>-0.595866</td>\n",
       "    </tr>\n",
       "  </tbody>\n",
       "</table>\n",
       "<p>603 rows × 67 columns</p>\n",
       "</div>"
      ],
      "text/plain": [
       "           0         1         2         3         4         5         6   \\\n",
       "0   -0.390472 -0.696879 -0.564514  1.013217 -0.655924  0.351750  0.555388   \n",
       "1    1.455099  1.696322 -0.564514 -1.227484 -0.029287 -1.598908  0.929568   \n",
       "2    0.042084 -0.532640  1.855603 -1.336950  0.939153 -0.049856 -0.335787   \n",
       "3    0.243943 -0.532640 -0.564514 -1.741304  1.679724  0.122261  1.023827   \n",
       "4   -1.226746  1.696322 -0.564514 -0.706962  0.027680  0.523867  0.001260   \n",
       "..        ...       ...       ...       ...       ...       ...       ...   \n",
       "598 -0.246287  1.696322 -0.564514  0.494929  0.369483  0.695984  0.241192   \n",
       "599 -0.188612 -0.532640 -0.564514 -0.036763 -0.371089 -0.164600 -0.524305   \n",
       "600 -1.169072 -0.696879 -0.564514 -1.634072  0.768252  1.384452  0.398290   \n",
       "601  0.099758  1.696322  2.022508 -1.636306  1.394889  0.179633 -0.272948   \n",
       "602 -1.774650 -0.532640 -0.564514  0.300571 -0.314122 -0.336717 -0.327218   \n",
       "\n",
       "           7         8         9   ...        57        58        59  \\\n",
       "0   -0.515155  1.258781  1.219864  ... -0.148438 -0.154172 -0.148438   \n",
       "1   -0.048030  1.946977 -0.050564  ... -0.148438 -0.154172 -0.148438   \n",
       "2   -1.507798  0.937967 -0.095937  ... -0.148438 -0.154172 -0.148438   \n",
       "3   -0.690327 -0.728193 -1.094131  ... -0.148438 -0.154172 -0.148438   \n",
       "4    0.010361  0.705119  0.720767  ... -0.148438 -0.154172 -0.148438   \n",
       "..        ...       ...       ...  ...       ...       ...       ...   \n",
       "598  1.645301 -0.138310  0.766140  ... -0.148438 -0.154172 -0.148438   \n",
       "599  1.762083  0.549886  0.539278  ... -0.148438 -0.154172 -0.148438   \n",
       "600 -0.515155  0.373956 -0.186682  ... -0.148438 -0.154172 -0.148438   \n",
       "601 -0.164811 -0.122787 -0.640406  ... -0.148438 -0.154172 -0.148438   \n",
       "602 -0.631937  0.508491  0.221670  ... -0.148438 -0.154172 -0.148438   \n",
       "\n",
       "           60        61        62        63        64        65        66  \n",
       "0   -0.154172 -0.224772 -0.165098 -3.094987  3.094987 -1.678230  1.678230  \n",
       "1   -0.154172 -0.224772 -0.165098  0.323103 -0.323103  0.595866 -0.595866  \n",
       "2   -0.154172  4.448944 -0.165098 -3.094987  3.094987 -1.678230  1.678230  \n",
       "3   -0.154172 -0.224772 -0.165098  0.323103 -0.323103 -1.678230  1.678230  \n",
       "4   -0.154172 -0.224772 -0.165098 -3.094987  3.094987  0.595866 -0.595866  \n",
       "..        ...       ...       ...       ...       ...       ...       ...  \n",
       "598 -0.154172 -0.224772 -0.165098 -3.094987  3.094987  0.595866 -0.595866  \n",
       "599 -0.154172 -0.224772 -0.165098  0.323103 -0.323103  0.595866 -0.595866  \n",
       "600 -0.154172 -0.224772 -0.165098  0.323103 -0.323103  0.595866 -0.595866  \n",
       "601 -0.154172 -0.224772 -0.165098  0.323103 -0.323103  0.595866 -0.595866  \n",
       "602 -0.154172 -0.224772 -0.165098  0.323103 -0.323103  0.595866 -0.595866  \n",
       "\n",
       "[603 rows x 67 columns]"
      ]
     },
     "execution_count": 42,
     "metadata": {},
     "output_type": "execute_result"
    }
   ],
   "source": [
    "from sklearn.model_selection import train_test_split\n",
    "from sklearn.preprocessing import StandardScaler\n",
    "X_train,X_test,y_train,y_test=train_test_split(X,y,test_size=0.3,random_state=42)\n",
    "scaler=StandardScaler()\n",
    "data_scaled=pd.DataFrame(scaler.fit_transform(X_train,y_train))\n",
    "data_scaled"
   ]
  },
  {
   "cell_type": "markdown",
   "id": "0a98b733",
   "metadata": {},
   "source": [
    "# MODELLING"
   ]
  },
  {
   "cell_type": "markdown",
   "id": "62fc31a4",
   "metadata": {},
   "source": [
    "After preparing our data we will build our models and evaluate them"
   ]
  },
  {
   "cell_type": "markdown",
   "id": "6d9afef2",
   "metadata": {},
   "source": [
    "# Logistic model"
   ]
  },
  {
   "cell_type": "markdown",
   "id": "8da19779",
   "metadata": {},
   "source": [
    "This is the first model we will build for our classification problem."
   ]
  },
  {
   "cell_type": "code",
   "execution_count": 43,
   "id": "a942b38e",
   "metadata": {},
   "outputs": [],
   "source": [
    "from sklearn.linear_model import LogisticRegression\n",
    "from sklearn.metrics import accuracy_score, precision_score, recall_score, f1_score, roc_auc_score"
   ]
  },
  {
   "cell_type": "code",
   "execution_count": 49,
   "id": "8536b7f5",
   "metadata": {},
   "outputs": [],
   "source": [
    "#Fitting our Model\n",
    "model = LogisticRegression()\n",
    "model.fit(X_train, y_train)\n",
    "# Make predictions on the test set\n",
    "y_pred = model.predict(X_test)\n"
   ]
  },
  {
   "cell_type": "code",
   "execution_count": 51,
   "id": "f166af8e",
   "metadata": {},
   "outputs": [
    {
     "name": "stdout",
     "output_type": "stream",
     "text": [
      "Accuracy: 0.8996138996138996\n",
      "Precision: 0.8996138996138996\n",
      "Recall: 1.0\n"
     ]
    }
   ],
   "source": [
    "# Evaluate the model\n",
    "accuracy = accuracy_score(y_test, y_pred)\n",
    "precision = precision_score(y_test, y_pred)\n",
    "recall = recall_score(y_test, y_pred)\n",
    "\n",
    "# Print the evaluation metrics\n",
    "print(\"Accuracy:\", accuracy)\n",
    "print(\"Precision:\", precision)\n",
    "print(\"Recall:\", recall)\n"
   ]
  },
  {
   "cell_type": "markdown",
   "id": "e3e8a4d7",
   "metadata": {},
   "source": [
    "From the above evaluation metrics we can see that our model was able to Classify 89.9% of the data accurately and since we are trying to reduce False Negatives Recall is very  important and as we can see the model did well in identifying positive cases."
   ]
  },
  {
   "cell_type": "markdown",
   "id": "abfc9607",
   "metadata": {},
   "source": [
    "The limitation of the above model is that it cannot perform very where their is a huge class imbalance\n",
    " A high recall value may also mean their is increased false positives, leading to more incorrect positive predictions"
   ]
  },
  {
   "cell_type": "markdown",
   "id": "aa774b9b",
   "metadata": {},
   "source": [
    "# DecisionTrees Model"
   ]
  },
  {
   "cell_type": "markdown",
   "id": "c36bedcd",
   "metadata": {},
   "source": [
    "We will do some changes to the previous data before we fit in our model.\n",
    "\n",
    "The major change for this particular model will be to balance the classes."
   ]
  },
  {
   "cell_type": "code",
   "execution_count": 80,
   "id": "814b0909",
   "metadata": {},
   "outputs": [
    {
     "data": {
      "text/html": [
       "<div>\n",
       "<style scoped>\n",
       "    .dataframe tbody tr th:only-of-type {\n",
       "        vertical-align: middle;\n",
       "    }\n",
       "\n",
       "    .dataframe tbody tr th {\n",
       "        vertical-align: top;\n",
       "    }\n",
       "\n",
       "    .dataframe thead th {\n",
       "        text-align: right;\n",
       "    }\n",
       "</style>\n",
       "<table border=\"1\" class=\"dataframe\">\n",
       "  <thead>\n",
       "    <tr style=\"text-align: right;\">\n",
       "      <th></th>\n",
       "      <th>account length</th>\n",
       "      <th>area code</th>\n",
       "      <th>number vmail messages</th>\n",
       "      <th>total day minutes</th>\n",
       "      <th>total day calls</th>\n",
       "      <th>total eve calls</th>\n",
       "      <th>total eve charge</th>\n",
       "      <th>total night calls</th>\n",
       "      <th>total night charge</th>\n",
       "      <th>total intl minutes</th>\n",
       "      <th>...</th>\n",
       "      <th>state_VT</th>\n",
       "      <th>state_WA</th>\n",
       "      <th>state_WI</th>\n",
       "      <th>state_WV</th>\n",
       "      <th>state_WY</th>\n",
       "      <th>international plan_no</th>\n",
       "      <th>international plan_yes</th>\n",
       "      <th>voice mail plan_no</th>\n",
       "      <th>voice mail plan_yes</th>\n",
       "      <th>Churn</th>\n",
       "    </tr>\n",
       "  </thead>\n",
       "  <tbody>\n",
       "    <tr>\n",
       "      <th>5</th>\n",
       "      <td>118.0</td>\n",
       "      <td>510.0</td>\n",
       "      <td>0.0</td>\n",
       "      <td>223.4</td>\n",
       "      <td>98.0</td>\n",
       "      <td>101.0</td>\n",
       "      <td>18.75</td>\n",
       "      <td>118.0</td>\n",
       "      <td>9.18</td>\n",
       "      <td>6.3</td>\n",
       "      <td>...</td>\n",
       "      <td>0.0</td>\n",
       "      <td>0.0</td>\n",
       "      <td>0.0</td>\n",
       "      <td>0.0</td>\n",
       "      <td>0.0</td>\n",
       "      <td>1.0</td>\n",
       "      <td>0.0</td>\n",
       "      <td>1.0</td>\n",
       "      <td>0.0</td>\n",
       "      <td>0.0</td>\n",
       "    </tr>\n",
       "    <tr>\n",
       "      <th>45</th>\n",
       "      <td>59.0</td>\n",
       "      <td>408.0</td>\n",
       "      <td>28.0</td>\n",
       "      <td>120.9</td>\n",
       "      <td>97.0</td>\n",
       "      <td>92.0</td>\n",
       "      <td>18.11</td>\n",
       "      <td>116.0</td>\n",
       "      <td>7.34</td>\n",
       "      <td>8.5</td>\n",
       "      <td>...</td>\n",
       "      <td>0.0</td>\n",
       "      <td>0.0</td>\n",
       "      <td>0.0</td>\n",
       "      <td>0.0</td>\n",
       "      <td>0.0</td>\n",
       "      <td>1.0</td>\n",
       "      <td>0.0</td>\n",
       "      <td>1.0</td>\n",
       "      <td>0.0</td>\n",
       "      <td>0.0</td>\n",
       "    </tr>\n",
       "  </tbody>\n",
       "</table>\n",
       "<p>2 rows × 68 columns</p>\n",
       "</div>"
      ],
      "text/plain": [
       "    account length  area code  number vmail messages  total day minutes  \\\n",
       "5            118.0      510.0                    0.0              223.4   \n",
       "45            59.0      408.0                   28.0              120.9   \n",
       "\n",
       "    total day calls  total eve calls  total eve charge  total night calls  \\\n",
       "5              98.0            101.0             18.75              118.0   \n",
       "45             97.0             92.0             18.11              116.0   \n",
       "\n",
       "    total night charge  total intl minutes  ...  state_VT  state_WA  state_WI  \\\n",
       "5                 9.18                 6.3  ...       0.0       0.0       0.0   \n",
       "45                7.34                 8.5  ...       0.0       0.0       0.0   \n",
       "\n",
       "    state_WV  state_WY  international plan_no  international plan_yes  \\\n",
       "5        0.0       0.0                    1.0                     0.0   \n",
       "45       0.0       0.0                    1.0                     0.0   \n",
       "\n",
       "    voice mail plan_no  voice mail plan_yes  Churn  \n",
       "5                  1.0                  0.0    0.0  \n",
       "45                 1.0                  0.0    0.0  \n",
       "\n",
       "[2 rows x 68 columns]"
      ]
     },
     "execution_count": 80,
     "metadata": {},
     "output_type": "execute_result"
    }
   ],
   "source": [
    "#Balancing the classes by oversampling the minority class\n",
    "import pandas as pd\n",
    "from sklearn.utils import resample\n",
    "\n",
    "# Separate majority and minority classes\n",
    "majority_class = data_features[data_features['Churn'] == 0]\n",
    "minority_class = data_features[data_features['Churn'] == 1]\n",
    "\n",
    "# Upsample the minority class\n",
    "minority_upsampled = resample(minority_class,\n",
    "                              replace=True,  \n",
    "                              n_samples=len(majority_class),  \n",
    "                              random_state=42)  \n",
    "# Combine the upsampled minority class with the majority class\n",
    "upsampled_df = pd.concat([majority_class, minority_upsampled])\n",
    "\n",
    "# Check the class distribution\n",
    "upsampled_df['Churn'].value_counts()\n",
    "balanced_data=upsampled_df\n",
    "balanced_data.head(2)"
   ]
  },
  {
   "cell_type": "markdown",
   "id": "47affed3",
   "metadata": {},
   "source": [
    "# Scale the class balanced data"
   ]
  },
  {
   "cell_type": "code",
   "execution_count": 83,
   "id": "6e930801",
   "metadata": {},
   "outputs": [],
   "source": [
    "#defining our X and y in the balanced data\n",
    "X=balanced_data.drop(['Churn'],axis=1)\n",
    "y=balanced_data['Churn']"
   ]
  },
  {
   "cell_type": "code",
   "execution_count": 84,
   "id": "d0fbc694",
   "metadata": {},
   "outputs": [
    {
     "data": {
      "text/html": [
       "<div>\n",
       "<style scoped>\n",
       "    .dataframe tbody tr th:only-of-type {\n",
       "        vertical-align: middle;\n",
       "    }\n",
       "\n",
       "    .dataframe tbody tr th {\n",
       "        vertical-align: top;\n",
       "    }\n",
       "\n",
       "    .dataframe thead th {\n",
       "        text-align: right;\n",
       "    }\n",
       "</style>\n",
       "<table border=\"1\" class=\"dataframe\">\n",
       "  <thead>\n",
       "    <tr style=\"text-align: right;\">\n",
       "      <th></th>\n",
       "      <th>0</th>\n",
       "      <th>1</th>\n",
       "      <th>2</th>\n",
       "      <th>3</th>\n",
       "      <th>4</th>\n",
       "      <th>5</th>\n",
       "      <th>6</th>\n",
       "      <th>7</th>\n",
       "      <th>8</th>\n",
       "      <th>9</th>\n",
       "      <th>...</th>\n",
       "      <th>57</th>\n",
       "      <th>58</th>\n",
       "      <th>59</th>\n",
       "      <th>60</th>\n",
       "      <th>61</th>\n",
       "      <th>62</th>\n",
       "      <th>63</th>\n",
       "      <th>64</th>\n",
       "      <th>65</th>\n",
       "      <th>66</th>\n",
       "    </tr>\n",
       "  </thead>\n",
       "  <tbody>\n",
       "    <tr>\n",
       "      <th>0</th>\n",
       "      <td>-0.511453</td>\n",
       "      <td>-0.650619</td>\n",
       "      <td>-0.488157</td>\n",
       "      <td>0.724069</td>\n",
       "      <td>-1.537433</td>\n",
       "      <td>-1.349703</td>\n",
       "      <td>-0.125147</td>\n",
       "      <td>1.222682</td>\n",
       "      <td>0.210102</td>\n",
       "      <td>-0.629448</td>\n",
       "      <td>...</td>\n",
       "      <td>-0.087706</td>\n",
       "      <td>-0.177471</td>\n",
       "      <td>-0.177471</td>\n",
       "      <td>11.401754</td>\n",
       "      <td>-0.177471</td>\n",
       "      <td>-0.124515</td>\n",
       "      <td>0.44926</td>\n",
       "      <td>-0.44926</td>\n",
       "      <td>0.436931</td>\n",
       "      <td>-0.436931</td>\n",
       "    </tr>\n",
       "    <tr>\n",
       "      <th>1</th>\n",
       "      <td>-1.513596</td>\n",
       "      <td>-0.650619</td>\n",
       "      <td>-0.488157</td>\n",
       "      <td>-1.499335</td>\n",
       "      <td>0.425791</td>\n",
       "      <td>1.147957</td>\n",
       "      <td>0.466533</td>\n",
       "      <td>0.475829</td>\n",
       "      <td>0.977451</td>\n",
       "      <td>-0.539722</td>\n",
       "      <td>...</td>\n",
       "      <td>-0.087706</td>\n",
       "      <td>-0.177471</td>\n",
       "      <td>5.634714</td>\n",
       "      <td>-0.087706</td>\n",
       "      <td>-0.177471</td>\n",
       "      <td>-0.124515</td>\n",
       "      <td>0.44926</td>\n",
       "      <td>-0.44926</td>\n",
       "      <td>0.436931</td>\n",
       "      <td>-0.436931</td>\n",
       "    </tr>\n",
       "    <tr>\n",
       "      <th>2</th>\n",
       "      <td>-1.742657</td>\n",
       "      <td>-0.477586</td>\n",
       "      <td>-0.488157</td>\n",
       "      <td>0.293585</td>\n",
       "      <td>-1.826142</td>\n",
       "      <td>0.741361</td>\n",
       "      <td>-1.765445</td>\n",
       "      <td>1.107782</td>\n",
       "      <td>0.194115</td>\n",
       "      <td>1.209924</td>\n",
       "      <td>...</td>\n",
       "      <td>-0.087706</td>\n",
       "      <td>-0.177471</td>\n",
       "      <td>-0.177471</td>\n",
       "      <td>-0.087706</td>\n",
       "      <td>-0.177471</td>\n",
       "      <td>-0.124515</td>\n",
       "      <td>0.44926</td>\n",
       "      <td>-0.44926</td>\n",
       "      <td>0.436931</td>\n",
       "      <td>-0.436931</td>\n",
       "    </tr>\n",
       "    <tr>\n",
       "      <th>3</th>\n",
       "      <td>0.490689</td>\n",
       "      <td>-0.477586</td>\n",
       "      <td>-0.488157</td>\n",
       "      <td>0.039416</td>\n",
       "      <td>1.060952</td>\n",
       "      <td>1.496468</td>\n",
       "      <td>-0.031415</td>\n",
       "      <td>-1.592381</td>\n",
       "      <td>0.423254</td>\n",
       "      <td>0.985610</td>\n",
       "      <td>...</td>\n",
       "      <td>-0.087706</td>\n",
       "      <td>-0.177471</td>\n",
       "      <td>-0.177471</td>\n",
       "      <td>-0.087706</td>\n",
       "      <td>-0.177471</td>\n",
       "      <td>-0.124515</td>\n",
       "      <td>0.44926</td>\n",
       "      <td>-0.44926</td>\n",
       "      <td>0.436931</td>\n",
       "      <td>-0.436931</td>\n",
       "    </tr>\n",
       "    <tr>\n",
       "      <th>4</th>\n",
       "      <td>0.376159</td>\n",
       "      <td>1.870718</td>\n",
       "      <td>-0.488157</td>\n",
       "      <td>0.298164</td>\n",
       "      <td>-1.190981</td>\n",
       "      <td>-0.362256</td>\n",
       "      <td>-1.534046</td>\n",
       "      <td>0.533279</td>\n",
       "      <td>1.116001</td>\n",
       "      <td>-1.706153</td>\n",
       "      <td>...</td>\n",
       "      <td>-0.087706</td>\n",
       "      <td>-0.177471</td>\n",
       "      <td>-0.177471</td>\n",
       "      <td>-0.087706</td>\n",
       "      <td>-0.177471</td>\n",
       "      <td>-0.124515</td>\n",
       "      <td>0.44926</td>\n",
       "      <td>-0.44926</td>\n",
       "      <td>0.436931</td>\n",
       "      <td>-0.436931</td>\n",
       "    </tr>\n",
       "    <tr>\n",
       "      <th>...</th>\n",
       "      <td>...</td>\n",
       "      <td>...</td>\n",
       "      <td>...</td>\n",
       "      <td>...</td>\n",
       "      <td>...</td>\n",
       "      <td>...</td>\n",
       "      <td>...</td>\n",
       "      <td>...</td>\n",
       "      <td>...</td>\n",
       "      <td>...</td>\n",
       "      <td>...</td>\n",
       "      <td>...</td>\n",
       "      <td>...</td>\n",
       "      <td>...</td>\n",
       "      <td>...</td>\n",
       "      <td>...</td>\n",
       "      <td>...</td>\n",
       "      <td>...</td>\n",
       "      <td>...</td>\n",
       "      <td>...</td>\n",
       "      <td>...</td>\n",
       "    </tr>\n",
       "    <tr>\n",
       "      <th>126</th>\n",
       "      <td>0.061200</td>\n",
       "      <td>1.870718</td>\n",
       "      <td>-0.488157</td>\n",
       "      <td>-0.819262</td>\n",
       "      <td>-0.786788</td>\n",
       "      <td>-0.710767</td>\n",
       "      <td>-0.110501</td>\n",
       "      <td>1.107782</td>\n",
       "      <td>-1.857479</td>\n",
       "      <td>-1.078075</td>\n",
       "      <td>...</td>\n",
       "      <td>-0.087706</td>\n",
       "      <td>-0.177471</td>\n",
       "      <td>-0.177471</td>\n",
       "      <td>-0.087706</td>\n",
       "      <td>-0.177471</td>\n",
       "      <td>-0.124515</td>\n",
       "      <td>0.44926</td>\n",
       "      <td>-0.44926</td>\n",
       "      <td>-2.288689</td>\n",
       "      <td>2.288689</td>\n",
       "    </tr>\n",
       "    <tr>\n",
       "      <th>127</th>\n",
       "      <td>-1.370433</td>\n",
       "      <td>1.870718</td>\n",
       "      <td>-0.488157</td>\n",
       "      <td>1.827756</td>\n",
       "      <td>0.310308</td>\n",
       "      <td>0.334765</td>\n",
       "      <td>-0.962870</td>\n",
       "      <td>0.705630</td>\n",
       "      <td>0.615092</td>\n",
       "      <td>0.671571</td>\n",
       "      <td>...</td>\n",
       "      <td>-0.087706</td>\n",
       "      <td>-0.177471</td>\n",
       "      <td>-0.177471</td>\n",
       "      <td>-0.087706</td>\n",
       "      <td>-0.177471</td>\n",
       "      <td>-0.124515</td>\n",
       "      <td>0.44926</td>\n",
       "      <td>-0.44926</td>\n",
       "      <td>-2.288689</td>\n",
       "      <td>2.288689</td>\n",
       "    </tr>\n",
       "    <tr>\n",
       "      <th>128</th>\n",
       "      <td>0.719750</td>\n",
       "      <td>-0.477586</td>\n",
       "      <td>1.903273</td>\n",
       "      <td>0.467610</td>\n",
       "      <td>1.522887</td>\n",
       "      <td>0.276680</td>\n",
       "      <td>1.219312</td>\n",
       "      <td>1.509933</td>\n",
       "      <td>-0.631851</td>\n",
       "      <td>1.030473</td>\n",
       "      <td>...</td>\n",
       "      <td>-0.087706</td>\n",
       "      <td>-0.177471</td>\n",
       "      <td>-0.177471</td>\n",
       "      <td>-0.087706</td>\n",
       "      <td>-0.177471</td>\n",
       "      <td>-0.124515</td>\n",
       "      <td>0.44926</td>\n",
       "      <td>-0.44926</td>\n",
       "      <td>0.436931</td>\n",
       "      <td>-0.436931</td>\n",
       "    </tr>\n",
       "    <tr>\n",
       "      <th>129</th>\n",
       "      <td>-0.597351</td>\n",
       "      <td>-0.477586</td>\n",
       "      <td>-0.488157</td>\n",
       "      <td>-0.349851</td>\n",
       "      <td>0.656759</td>\n",
       "      <td>-0.652682</td>\n",
       "      <td>0.472391</td>\n",
       "      <td>-1.822182</td>\n",
       "      <td>0.812258</td>\n",
       "      <td>-1.571565</td>\n",
       "      <td>...</td>\n",
       "      <td>-0.087706</td>\n",
       "      <td>-0.177471</td>\n",
       "      <td>-0.177471</td>\n",
       "      <td>-0.087706</td>\n",
       "      <td>-0.177471</td>\n",
       "      <td>-0.124515</td>\n",
       "      <td>0.44926</td>\n",
       "      <td>-0.44926</td>\n",
       "      <td>0.436931</td>\n",
       "      <td>-0.436931</td>\n",
       "    </tr>\n",
       "    <tr>\n",
       "      <th>130</th>\n",
       "      <td>0.462057</td>\n",
       "      <td>1.870718</td>\n",
       "      <td>1.991844</td>\n",
       "      <td>1.088148</td>\n",
       "      <td>-0.382595</td>\n",
       "      <td>0.973702</td>\n",
       "      <td>-0.174941</td>\n",
       "      <td>0.131127</td>\n",
       "      <td>0.790943</td>\n",
       "      <td>-0.808899</td>\n",
       "      <td>...</td>\n",
       "      <td>-0.087706</td>\n",
       "      <td>-0.177471</td>\n",
       "      <td>-0.177471</td>\n",
       "      <td>-0.087706</td>\n",
       "      <td>5.634714</td>\n",
       "      <td>-0.124515</td>\n",
       "      <td>0.44926</td>\n",
       "      <td>-0.44926</td>\n",
       "      <td>0.436931</td>\n",
       "      <td>-0.436931</td>\n",
       "    </tr>\n",
       "  </tbody>\n",
       "</table>\n",
       "<p>131 rows × 67 columns</p>\n",
       "</div>"
      ],
      "text/plain": [
       "           0         1         2         3         4         5         6   \\\n",
       "0   -0.511453 -0.650619 -0.488157  0.724069 -1.537433 -1.349703 -0.125147   \n",
       "1   -1.513596 -0.650619 -0.488157 -1.499335  0.425791  1.147957  0.466533   \n",
       "2   -1.742657 -0.477586 -0.488157  0.293585 -1.826142  0.741361 -1.765445   \n",
       "3    0.490689 -0.477586 -0.488157  0.039416  1.060952  1.496468 -0.031415   \n",
       "4    0.376159  1.870718 -0.488157  0.298164 -1.190981 -0.362256 -1.534046   \n",
       "..        ...       ...       ...       ...       ...       ...       ...   \n",
       "126  0.061200  1.870718 -0.488157 -0.819262 -0.786788 -0.710767 -0.110501   \n",
       "127 -1.370433  1.870718 -0.488157  1.827756  0.310308  0.334765 -0.962870   \n",
       "128  0.719750 -0.477586  1.903273  0.467610  1.522887  0.276680  1.219312   \n",
       "129 -0.597351 -0.477586 -0.488157 -0.349851  0.656759 -0.652682  0.472391   \n",
       "130  0.462057  1.870718  1.991844  1.088148 -0.382595  0.973702 -0.174941   \n",
       "\n",
       "           7         8         9   ...        57        58        59  \\\n",
       "0    1.222682  0.210102 -0.629448  ... -0.087706 -0.177471 -0.177471   \n",
       "1    0.475829  0.977451 -0.539722  ... -0.087706 -0.177471  5.634714   \n",
       "2    1.107782  0.194115  1.209924  ... -0.087706 -0.177471 -0.177471   \n",
       "3   -1.592381  0.423254  0.985610  ... -0.087706 -0.177471 -0.177471   \n",
       "4    0.533279  1.116001 -1.706153  ... -0.087706 -0.177471 -0.177471   \n",
       "..        ...       ...       ...  ...       ...       ...       ...   \n",
       "126  1.107782 -1.857479 -1.078075  ... -0.087706 -0.177471 -0.177471   \n",
       "127  0.705630  0.615092  0.671571  ... -0.087706 -0.177471 -0.177471   \n",
       "128  1.509933 -0.631851  1.030473  ... -0.087706 -0.177471 -0.177471   \n",
       "129 -1.822182  0.812258 -1.571565  ... -0.087706 -0.177471 -0.177471   \n",
       "130  0.131127  0.790943 -0.808899  ... -0.087706 -0.177471 -0.177471   \n",
       "\n",
       "            60        61        62       63       64        65        66  \n",
       "0    11.401754 -0.177471 -0.124515  0.44926 -0.44926  0.436931 -0.436931  \n",
       "1    -0.087706 -0.177471 -0.124515  0.44926 -0.44926  0.436931 -0.436931  \n",
       "2    -0.087706 -0.177471 -0.124515  0.44926 -0.44926  0.436931 -0.436931  \n",
       "3    -0.087706 -0.177471 -0.124515  0.44926 -0.44926  0.436931 -0.436931  \n",
       "4    -0.087706 -0.177471 -0.124515  0.44926 -0.44926  0.436931 -0.436931  \n",
       "..         ...       ...       ...      ...      ...       ...       ...  \n",
       "126  -0.087706 -0.177471 -0.124515  0.44926 -0.44926 -2.288689  2.288689  \n",
       "127  -0.087706 -0.177471 -0.124515  0.44926 -0.44926 -2.288689  2.288689  \n",
       "128  -0.087706 -0.177471 -0.124515  0.44926 -0.44926  0.436931 -0.436931  \n",
       "129  -0.087706 -0.177471 -0.124515  0.44926 -0.44926  0.436931 -0.436931  \n",
       "130  -0.087706  5.634714 -0.124515  0.44926 -0.44926  0.436931 -0.436931  \n",
       "\n",
       "[131 rows x 67 columns]"
      ]
     },
     "execution_count": 84,
     "metadata": {},
     "output_type": "execute_result"
    }
   ],
   "source": [
    "#Applying StandardScaler to our balanced data for modelling\n",
    "from sklearn.model_selection import train_test_split\n",
    "from sklearn.preprocessing import StandardScaler\n",
    "X_train,X_test,y_train,y_test=train_test_split(X,y,test_size=0.3,random_state=42)\n",
    "scaler=StandardScaler()\n",
    "data_scaled=pd.DataFrame(scaler.fit_transform(X_train,y_train))\n",
    "data_scaled"
   ]
  },
  {
   "cell_type": "code",
   "execution_count": 85,
   "id": "ca17e60a",
   "metadata": {},
   "outputs": [
    {
     "name": "stdout",
     "output_type": "stream",
     "text": [
      "Accuracy: 0.543859649122807\n",
      "Precision: 0.5151515151515151\n",
      "Recall: 0.6296296296296297\n"
     ]
    }
   ],
   "source": [
    "#Building our model and fitting out balanced and scaled data\n",
    "from sklearn.tree import DecisionTreeClassifier\n",
    "# Create a decision tree classifier\n",
    "clf = DecisionTreeClassifier()\n",
    "\n",
    "# Train the classifier on the training data\n",
    "clf.fit(X_train, y_train)\n",
    "\n",
    "# Make predictions on the test data\n",
    "y_pred = clf.predict(X_test)\n",
    "\n",
    "# Evaluate the model\n",
    "accuracy = accuracy_score(y_test, y_pred)\n",
    "precision = precision_score(y_test, y_pred)\n",
    "recall = recall_score(y_test, y_pred)\n",
    "\n",
    "\n",
    "# Print the evaluation metrics\n",
    "print(\"Accuracy:\", accuracy)\n",
    "print(\"Precision:\", precision)\n",
    "print(\"Recall:\", recall)\n"
   ]
  },
  {
   "cell_type": "markdown",
   "id": "26083789",
   "metadata": {},
   "source": [
    "In the model above we balanced the classes as opposed to the first model.\n",
    "Since our objective is still the same to reduvce the False Negatives we will use the same metrics as in the baseline model.\n",
    "Our Acurracy Level has significantly dropped to about 54% and our recall is now 0.62 meaning we are able to indentify 63% of our positives.\n",
    "We can conclude that our model has perfomed moderately."
   ]
  },
  {
   "cell_type": "markdown",
   "id": "7abc53ec",
   "metadata": {},
   "source": [
    "# KNN Model"
   ]
  },
  {
   "cell_type": "markdown",
   "id": "81479be1",
   "metadata": {},
   "source": [
    "KNN is another model we will use to try and do our classification"
   ]
  },
  {
   "cell_type": "code",
   "execution_count": 86,
   "id": "6cc5694c",
   "metadata": {},
   "outputs": [],
   "source": [
    "#Defining X and y we will be using our balanced data.\n",
    "X=balanced_data.drop(['Churn'],axis=1)\n",
    "y=balanced_data['Churn']"
   ]
  },
  {
   "cell_type": "code",
   "execution_count": 87,
   "id": "5903a527",
   "metadata": {},
   "outputs": [
    {
     "name": "stdout",
     "output_type": "stream",
     "text": [
      "Accuracy: 0.49122807017543857\n",
      "Precision: 0.45454545454545453\n",
      "Recall: 0.37037037037037035\n",
      "F1 Score: 0.40816326530612246\n"
     ]
    }
   ],
   "source": [
    "#Building and Evaluating our model\n",
    "from sklearn.neighbors import KNeighborsClassifier\n",
    "knn = KNeighborsClassifier(n_neighbors=5)\n",
    "knn.fit(X_train, y_train)\n",
    "\n",
    "# Make predictions on the test set\n",
    "y_pred = knn.predict(X_test)\n",
    "\n",
    "# Evaluate the model\n",
    "accuracy = accuracy_score(y_test, y_pred)\n",
    "precision = precision_score(y_test, y_pred)\n",
    "recall = recall_score(y_test, y_pred)\n",
    "f1 = f1_score(y_test, y_pred)\n",
    "\n",
    "# Print the evaluation metrics\n",
    "print(\"Accuracy:\", accuracy)\n",
    "print(\"Precision:\", precision)\n",
    "print(\"Recall:\", recall)\n",
    "print(\"F1 Score:\", f1)"
   ]
  },
  {
   "cell_type": "markdown",
   "id": "1df04b52",
   "metadata": {},
   "source": [
    "This metrics shows our model did poorly in doing predictions accurately as the accuracy is too low at 49%.\n",
    "\n",
    "and the recall shows that our model was not able to accurately identify the positives it only archived a 37% recall"
   ]
  },
  {
   "cell_type": "markdown",
   "id": "6d60e918",
   "metadata": {},
   "source": [
    "# RandomForest Model"
   ]
  },
  {
   "cell_type": "markdown",
   "id": "3b7ce9c6",
   "metadata": {},
   "source": [
    "We will build our final model which is a RandomForest classification"
   ]
  },
  {
   "cell_type": "code",
   "execution_count": 88,
   "id": "db451340",
   "metadata": {},
   "outputs": [
    {
     "name": "stdout",
     "output_type": "stream",
     "text": [
      "Accuracy: 0.6666666666666666\n",
      "Precision: 0.6176470588235294\n",
      "Recall: 0.7777777777777778\n"
     ]
    }
   ],
   "source": [
    "#Building and Evaluating our model.\n",
    "from sklearn.ensemble import RandomForestClassifier\n",
    "rf_model = RandomForestClassifier(n_estimators=100, random_state=42)\n",
    "\n",
    "# Train the model on the training data\n",
    "rf_model.fit(X_train, y_train)\n",
    "\n",
    "# Make predictions on the test data\n",
    "y_pred = rf_model.predict(X_test)\n",
    "\n",
    "# Evaluate the model's performance\n",
    "accuracy = accuracy_score(y_test, y_pred)\n",
    "precision = precision_score(y_test, y_pred)\n",
    "recall = recall_score(y_test, y_pred)\n",
    "\n",
    "# Print the evaluation metrics\n",
    "print(\"Accuracy:\", accuracy)\n",
    "print(\"Precision:\", precision)\n",
    "print(\"Recall:\", recall)\n"
   ]
  },
  {
   "cell_type": "markdown",
   "id": "23c76387",
   "metadata": {},
   "source": [
    "The metrics above show that our model predicted our positives 67% accurately.\n",
    "Our Recall is high showing our model did well in identifying the positives at a rate of 78%."
   ]
  },
  {
   "cell_type": "code",
   "execution_count": null,
   "id": "28633597",
   "metadata": {},
   "outputs": [],
   "source": []
  }
 ],
 "metadata": {
  "kernelspec": {
   "display_name": "Python 3 (ipykernel)",
   "language": "python",
   "name": "python3"
  },
  "language_info": {
   "codemirror_mode": {
    "name": "ipython",
    "version": 3
   },
   "file_extension": ".py",
   "mimetype": "text/x-python",
   "name": "python",
   "nbconvert_exporter": "python",
   "pygments_lexer": "ipython3",
   "version": "3.9.7"
  }
 },
 "nbformat": 4,
 "nbformat_minor": 5
}
